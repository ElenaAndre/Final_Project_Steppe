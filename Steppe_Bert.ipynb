{
  "nbformat": 4,
  "nbformat_minor": 0,
  "metadata": {
    "colab": {
      "provenance": []
    },
    "kernelspec": {
      "name": "python3",
      "display_name": "Python 3"
    },
    "language_info": {
      "name": "python"
    },
    "widgets": {
      "application/vnd.jupyter.widget-state+json": {
        "338b090f025b4d6c856942c228ae61d6": {
          "model_module": "@jupyter-widgets/controls",
          "model_name": "HBoxModel",
          "model_module_version": "1.5.0",
          "state": {
            "_dom_classes": [],
            "_model_module": "@jupyter-widgets/controls",
            "_model_module_version": "1.5.0",
            "_model_name": "HBoxModel",
            "_view_count": null,
            "_view_module": "@jupyter-widgets/controls",
            "_view_module_version": "1.5.0",
            "_view_name": "HBoxView",
            "box_style": "",
            "children": [
              "IPY_MODEL_e989d4f278a646d28cb31ca9a35e4c30",
              "IPY_MODEL_dcc8d593be7c46139bcee168809029e6",
              "IPY_MODEL_bfabd0f76d52446caef0d906fc2dc8c1"
            ],
            "layout": "IPY_MODEL_268ce11c87904c82b50b10ee2ef9a20d"
          }
        },
        "e989d4f278a646d28cb31ca9a35e4c30": {
          "model_module": "@jupyter-widgets/controls",
          "model_name": "HTMLModel",
          "model_module_version": "1.5.0",
          "state": {
            "_dom_classes": [],
            "_model_module": "@jupyter-widgets/controls",
            "_model_module_version": "1.5.0",
            "_model_name": "HTMLModel",
            "_view_count": null,
            "_view_module": "@jupyter-widgets/controls",
            "_view_module_version": "1.5.0",
            "_view_name": "HTMLView",
            "description": "",
            "description_tooltip": null,
            "layout": "IPY_MODEL_15791b1ebc8c40cc941e1547efb65482",
            "placeholder": "​",
            "style": "IPY_MODEL_161ecfb2b3b841c7aee55ff0889b59e5",
            "value": "Downloading (…)okenizer_config.json: 100%"
          }
        },
        "dcc8d593be7c46139bcee168809029e6": {
          "model_module": "@jupyter-widgets/controls",
          "model_name": "FloatProgressModel",
          "model_module_version": "1.5.0",
          "state": {
            "_dom_classes": [],
            "_model_module": "@jupyter-widgets/controls",
            "_model_module_version": "1.5.0",
            "_model_name": "FloatProgressModel",
            "_view_count": null,
            "_view_module": "@jupyter-widgets/controls",
            "_view_module_version": "1.5.0",
            "_view_name": "ProgressView",
            "bar_style": "success",
            "description": "",
            "description_tooltip": null,
            "layout": "IPY_MODEL_bcb9661a71a94990b65a96cddf965458",
            "max": 341,
            "min": 0,
            "orientation": "horizontal",
            "style": "IPY_MODEL_c42e9de57f414659b39f7aaf7f4adbd8",
            "value": 341
          }
        },
        "bfabd0f76d52446caef0d906fc2dc8c1": {
          "model_module": "@jupyter-widgets/controls",
          "model_name": "HTMLModel",
          "model_module_version": "1.5.0",
          "state": {
            "_dom_classes": [],
            "_model_module": "@jupyter-widgets/controls",
            "_model_module_version": "1.5.0",
            "_model_name": "HTMLModel",
            "_view_count": null,
            "_view_module": "@jupyter-widgets/controls",
            "_view_module_version": "1.5.0",
            "_view_name": "HTMLView",
            "description": "",
            "description_tooltip": null,
            "layout": "IPY_MODEL_230a717cc5464641b043bcdb3931805b",
            "placeholder": "​",
            "style": "IPY_MODEL_916778fc869b4af99d9ef91bf56015d7",
            "value": " 341/341 [00:00&lt;00:00, 7.82kB/s]"
          }
        },
        "268ce11c87904c82b50b10ee2ef9a20d": {
          "model_module": "@jupyter-widgets/base",
          "model_name": "LayoutModel",
          "model_module_version": "1.2.0",
          "state": {
            "_model_module": "@jupyter-widgets/base",
            "_model_module_version": "1.2.0",
            "_model_name": "LayoutModel",
            "_view_count": null,
            "_view_module": "@jupyter-widgets/base",
            "_view_module_version": "1.2.0",
            "_view_name": "LayoutView",
            "align_content": null,
            "align_items": null,
            "align_self": null,
            "border": null,
            "bottom": null,
            "display": null,
            "flex": null,
            "flex_flow": null,
            "grid_area": null,
            "grid_auto_columns": null,
            "grid_auto_flow": null,
            "grid_auto_rows": null,
            "grid_column": null,
            "grid_gap": null,
            "grid_row": null,
            "grid_template_areas": null,
            "grid_template_columns": null,
            "grid_template_rows": null,
            "height": null,
            "justify_content": null,
            "justify_items": null,
            "left": null,
            "margin": null,
            "max_height": null,
            "max_width": null,
            "min_height": null,
            "min_width": null,
            "object_fit": null,
            "object_position": null,
            "order": null,
            "overflow": null,
            "overflow_x": null,
            "overflow_y": null,
            "padding": null,
            "right": null,
            "top": null,
            "visibility": null,
            "width": null
          }
        },
        "15791b1ebc8c40cc941e1547efb65482": {
          "model_module": "@jupyter-widgets/base",
          "model_name": "LayoutModel",
          "model_module_version": "1.2.0",
          "state": {
            "_model_module": "@jupyter-widgets/base",
            "_model_module_version": "1.2.0",
            "_model_name": "LayoutModel",
            "_view_count": null,
            "_view_module": "@jupyter-widgets/base",
            "_view_module_version": "1.2.0",
            "_view_name": "LayoutView",
            "align_content": null,
            "align_items": null,
            "align_self": null,
            "border": null,
            "bottom": null,
            "display": null,
            "flex": null,
            "flex_flow": null,
            "grid_area": null,
            "grid_auto_columns": null,
            "grid_auto_flow": null,
            "grid_auto_rows": null,
            "grid_column": null,
            "grid_gap": null,
            "grid_row": null,
            "grid_template_areas": null,
            "grid_template_columns": null,
            "grid_template_rows": null,
            "height": null,
            "justify_content": null,
            "justify_items": null,
            "left": null,
            "margin": null,
            "max_height": null,
            "max_width": null,
            "min_height": null,
            "min_width": null,
            "object_fit": null,
            "object_position": null,
            "order": null,
            "overflow": null,
            "overflow_x": null,
            "overflow_y": null,
            "padding": null,
            "right": null,
            "top": null,
            "visibility": null,
            "width": null
          }
        },
        "161ecfb2b3b841c7aee55ff0889b59e5": {
          "model_module": "@jupyter-widgets/controls",
          "model_name": "DescriptionStyleModel",
          "model_module_version": "1.5.0",
          "state": {
            "_model_module": "@jupyter-widgets/controls",
            "_model_module_version": "1.5.0",
            "_model_name": "DescriptionStyleModel",
            "_view_count": null,
            "_view_module": "@jupyter-widgets/base",
            "_view_module_version": "1.2.0",
            "_view_name": "StyleView",
            "description_width": ""
          }
        },
        "bcb9661a71a94990b65a96cddf965458": {
          "model_module": "@jupyter-widgets/base",
          "model_name": "LayoutModel",
          "model_module_version": "1.2.0",
          "state": {
            "_model_module": "@jupyter-widgets/base",
            "_model_module_version": "1.2.0",
            "_model_name": "LayoutModel",
            "_view_count": null,
            "_view_module": "@jupyter-widgets/base",
            "_view_module_version": "1.2.0",
            "_view_name": "LayoutView",
            "align_content": null,
            "align_items": null,
            "align_self": null,
            "border": null,
            "bottom": null,
            "display": null,
            "flex": null,
            "flex_flow": null,
            "grid_area": null,
            "grid_auto_columns": null,
            "grid_auto_flow": null,
            "grid_auto_rows": null,
            "grid_column": null,
            "grid_gap": null,
            "grid_row": null,
            "grid_template_areas": null,
            "grid_template_columns": null,
            "grid_template_rows": null,
            "height": null,
            "justify_content": null,
            "justify_items": null,
            "left": null,
            "margin": null,
            "max_height": null,
            "max_width": null,
            "min_height": null,
            "min_width": null,
            "object_fit": null,
            "object_position": null,
            "order": null,
            "overflow": null,
            "overflow_x": null,
            "overflow_y": null,
            "padding": null,
            "right": null,
            "top": null,
            "visibility": null,
            "width": null
          }
        },
        "c42e9de57f414659b39f7aaf7f4adbd8": {
          "model_module": "@jupyter-widgets/controls",
          "model_name": "ProgressStyleModel",
          "model_module_version": "1.5.0",
          "state": {
            "_model_module": "@jupyter-widgets/controls",
            "_model_module_version": "1.5.0",
            "_model_name": "ProgressStyleModel",
            "_view_count": null,
            "_view_module": "@jupyter-widgets/base",
            "_view_module_version": "1.2.0",
            "_view_name": "StyleView",
            "bar_color": null,
            "description_width": ""
          }
        },
        "230a717cc5464641b043bcdb3931805b": {
          "model_module": "@jupyter-widgets/base",
          "model_name": "LayoutModel",
          "model_module_version": "1.2.0",
          "state": {
            "_model_module": "@jupyter-widgets/base",
            "_model_module_version": "1.2.0",
            "_model_name": "LayoutModel",
            "_view_count": null,
            "_view_module": "@jupyter-widgets/base",
            "_view_module_version": "1.2.0",
            "_view_name": "LayoutView",
            "align_content": null,
            "align_items": null,
            "align_self": null,
            "border": null,
            "bottom": null,
            "display": null,
            "flex": null,
            "flex_flow": null,
            "grid_area": null,
            "grid_auto_columns": null,
            "grid_auto_flow": null,
            "grid_auto_rows": null,
            "grid_column": null,
            "grid_gap": null,
            "grid_row": null,
            "grid_template_areas": null,
            "grid_template_columns": null,
            "grid_template_rows": null,
            "height": null,
            "justify_content": null,
            "justify_items": null,
            "left": null,
            "margin": null,
            "max_height": null,
            "max_width": null,
            "min_height": null,
            "min_width": null,
            "object_fit": null,
            "object_position": null,
            "order": null,
            "overflow": null,
            "overflow_x": null,
            "overflow_y": null,
            "padding": null,
            "right": null,
            "top": null,
            "visibility": null,
            "width": null
          }
        },
        "916778fc869b4af99d9ef91bf56015d7": {
          "model_module": "@jupyter-widgets/controls",
          "model_name": "DescriptionStyleModel",
          "model_module_version": "1.5.0",
          "state": {
            "_model_module": "@jupyter-widgets/controls",
            "_model_module_version": "1.5.0",
            "_model_name": "DescriptionStyleModel",
            "_view_count": null,
            "_view_module": "@jupyter-widgets/base",
            "_view_module_version": "1.2.0",
            "_view_name": "StyleView",
            "description_width": ""
          }
        },
        "2efbac6973c94665b78ee918d3323a81": {
          "model_module": "@jupyter-widgets/controls",
          "model_name": "HBoxModel",
          "model_module_version": "1.5.0",
          "state": {
            "_dom_classes": [],
            "_model_module": "@jupyter-widgets/controls",
            "_model_module_version": "1.5.0",
            "_model_name": "HBoxModel",
            "_view_count": null,
            "_view_module": "@jupyter-widgets/controls",
            "_view_module_version": "1.5.0",
            "_view_name": "HBoxView",
            "box_style": "",
            "children": [
              "IPY_MODEL_dfcf1c2f6b464e0d89e30623267248fc",
              "IPY_MODEL_b8c9f19b9ee74f60bc12ca4c80bed163",
              "IPY_MODEL_f3c0aa7853cf4b86aabd94d2f6988c4a"
            ],
            "layout": "IPY_MODEL_42da8f9d597b43b98349cd3325d7c612"
          }
        },
        "dfcf1c2f6b464e0d89e30623267248fc": {
          "model_module": "@jupyter-widgets/controls",
          "model_name": "HTMLModel",
          "model_module_version": "1.5.0",
          "state": {
            "_dom_classes": [],
            "_model_module": "@jupyter-widgets/controls",
            "_model_module_version": "1.5.0",
            "_model_name": "HTMLModel",
            "_view_count": null,
            "_view_module": "@jupyter-widgets/controls",
            "_view_module_version": "1.5.0",
            "_view_name": "HTMLView",
            "description": "",
            "description_tooltip": null,
            "layout": "IPY_MODEL_06f30dbf551a40dd869e87efac06f9c8",
            "placeholder": "​",
            "style": "IPY_MODEL_4a18e50651d84c41969c8a923a6bc91b",
            "value": "Downloading (…)lve/main/config.json: 100%"
          }
        },
        "b8c9f19b9ee74f60bc12ca4c80bed163": {
          "model_module": "@jupyter-widgets/controls",
          "model_name": "FloatProgressModel",
          "model_module_version": "1.5.0",
          "state": {
            "_dom_classes": [],
            "_model_module": "@jupyter-widgets/controls",
            "_model_module_version": "1.5.0",
            "_model_name": "FloatProgressModel",
            "_view_count": null,
            "_view_module": "@jupyter-widgets/controls",
            "_view_module_version": "1.5.0",
            "_view_name": "ProgressView",
            "bar_style": "success",
            "description": "",
            "description_tooltip": null,
            "layout": "IPY_MODEL_850369db835744d39f74aeee54692824",
            "max": 632,
            "min": 0,
            "orientation": "horizontal",
            "style": "IPY_MODEL_9990224b84b049728ff9cd123a9d7606",
            "value": 632
          }
        },
        "f3c0aa7853cf4b86aabd94d2f6988c4a": {
          "model_module": "@jupyter-widgets/controls",
          "model_name": "HTMLModel",
          "model_module_version": "1.5.0",
          "state": {
            "_dom_classes": [],
            "_model_module": "@jupyter-widgets/controls",
            "_model_module_version": "1.5.0",
            "_model_name": "HTMLModel",
            "_view_count": null,
            "_view_module": "@jupyter-widgets/controls",
            "_view_module_version": "1.5.0",
            "_view_name": "HTMLView",
            "description": "",
            "description_tooltip": null,
            "layout": "IPY_MODEL_c9bd86cd264d4f33b2201c140453258c",
            "placeholder": "​",
            "style": "IPY_MODEL_604dde1b9ea04f6d8b75d340b51bd722",
            "value": " 632/632 [00:00&lt;00:00, 21.4kB/s]"
          }
        },
        "42da8f9d597b43b98349cd3325d7c612": {
          "model_module": "@jupyter-widgets/base",
          "model_name": "LayoutModel",
          "model_module_version": "1.2.0",
          "state": {
            "_model_module": "@jupyter-widgets/base",
            "_model_module_version": "1.2.0",
            "_model_name": "LayoutModel",
            "_view_count": null,
            "_view_module": "@jupyter-widgets/base",
            "_view_module_version": "1.2.0",
            "_view_name": "LayoutView",
            "align_content": null,
            "align_items": null,
            "align_self": null,
            "border": null,
            "bottom": null,
            "display": null,
            "flex": null,
            "flex_flow": null,
            "grid_area": null,
            "grid_auto_columns": null,
            "grid_auto_flow": null,
            "grid_auto_rows": null,
            "grid_column": null,
            "grid_gap": null,
            "grid_row": null,
            "grid_template_areas": null,
            "grid_template_columns": null,
            "grid_template_rows": null,
            "height": null,
            "justify_content": null,
            "justify_items": null,
            "left": null,
            "margin": null,
            "max_height": null,
            "max_width": null,
            "min_height": null,
            "min_width": null,
            "object_fit": null,
            "object_position": null,
            "order": null,
            "overflow": null,
            "overflow_x": null,
            "overflow_y": null,
            "padding": null,
            "right": null,
            "top": null,
            "visibility": null,
            "width": null
          }
        },
        "06f30dbf551a40dd869e87efac06f9c8": {
          "model_module": "@jupyter-widgets/base",
          "model_name": "LayoutModel",
          "model_module_version": "1.2.0",
          "state": {
            "_model_module": "@jupyter-widgets/base",
            "_model_module_version": "1.2.0",
            "_model_name": "LayoutModel",
            "_view_count": null,
            "_view_module": "@jupyter-widgets/base",
            "_view_module_version": "1.2.0",
            "_view_name": "LayoutView",
            "align_content": null,
            "align_items": null,
            "align_self": null,
            "border": null,
            "bottom": null,
            "display": null,
            "flex": null,
            "flex_flow": null,
            "grid_area": null,
            "grid_auto_columns": null,
            "grid_auto_flow": null,
            "grid_auto_rows": null,
            "grid_column": null,
            "grid_gap": null,
            "grid_row": null,
            "grid_template_areas": null,
            "grid_template_columns": null,
            "grid_template_rows": null,
            "height": null,
            "justify_content": null,
            "justify_items": null,
            "left": null,
            "margin": null,
            "max_height": null,
            "max_width": null,
            "min_height": null,
            "min_width": null,
            "object_fit": null,
            "object_position": null,
            "order": null,
            "overflow": null,
            "overflow_x": null,
            "overflow_y": null,
            "padding": null,
            "right": null,
            "top": null,
            "visibility": null,
            "width": null
          }
        },
        "4a18e50651d84c41969c8a923a6bc91b": {
          "model_module": "@jupyter-widgets/controls",
          "model_name": "DescriptionStyleModel",
          "model_module_version": "1.5.0",
          "state": {
            "_model_module": "@jupyter-widgets/controls",
            "_model_module_version": "1.5.0",
            "_model_name": "DescriptionStyleModel",
            "_view_count": null,
            "_view_module": "@jupyter-widgets/base",
            "_view_module_version": "1.2.0",
            "_view_name": "StyleView",
            "description_width": ""
          }
        },
        "850369db835744d39f74aeee54692824": {
          "model_module": "@jupyter-widgets/base",
          "model_name": "LayoutModel",
          "model_module_version": "1.2.0",
          "state": {
            "_model_module": "@jupyter-widgets/base",
            "_model_module_version": "1.2.0",
            "_model_name": "LayoutModel",
            "_view_count": null,
            "_view_module": "@jupyter-widgets/base",
            "_view_module_version": "1.2.0",
            "_view_name": "LayoutView",
            "align_content": null,
            "align_items": null,
            "align_self": null,
            "border": null,
            "bottom": null,
            "display": null,
            "flex": null,
            "flex_flow": null,
            "grid_area": null,
            "grid_auto_columns": null,
            "grid_auto_flow": null,
            "grid_auto_rows": null,
            "grid_column": null,
            "grid_gap": null,
            "grid_row": null,
            "grid_template_areas": null,
            "grid_template_columns": null,
            "grid_template_rows": null,
            "height": null,
            "justify_content": null,
            "justify_items": null,
            "left": null,
            "margin": null,
            "max_height": null,
            "max_width": null,
            "min_height": null,
            "min_width": null,
            "object_fit": null,
            "object_position": null,
            "order": null,
            "overflow": null,
            "overflow_x": null,
            "overflow_y": null,
            "padding": null,
            "right": null,
            "top": null,
            "visibility": null,
            "width": null
          }
        },
        "9990224b84b049728ff9cd123a9d7606": {
          "model_module": "@jupyter-widgets/controls",
          "model_name": "ProgressStyleModel",
          "model_module_version": "1.5.0",
          "state": {
            "_model_module": "@jupyter-widgets/controls",
            "_model_module_version": "1.5.0",
            "_model_name": "ProgressStyleModel",
            "_view_count": null,
            "_view_module": "@jupyter-widgets/base",
            "_view_module_version": "1.2.0",
            "_view_name": "StyleView",
            "bar_color": null,
            "description_width": ""
          }
        },
        "c9bd86cd264d4f33b2201c140453258c": {
          "model_module": "@jupyter-widgets/base",
          "model_name": "LayoutModel",
          "model_module_version": "1.2.0",
          "state": {
            "_model_module": "@jupyter-widgets/base",
            "_model_module_version": "1.2.0",
            "_model_name": "LayoutModel",
            "_view_count": null,
            "_view_module": "@jupyter-widgets/base",
            "_view_module_version": "1.2.0",
            "_view_name": "LayoutView",
            "align_content": null,
            "align_items": null,
            "align_self": null,
            "border": null,
            "bottom": null,
            "display": null,
            "flex": null,
            "flex_flow": null,
            "grid_area": null,
            "grid_auto_columns": null,
            "grid_auto_flow": null,
            "grid_auto_rows": null,
            "grid_column": null,
            "grid_gap": null,
            "grid_row": null,
            "grid_template_areas": null,
            "grid_template_columns": null,
            "grid_template_rows": null,
            "height": null,
            "justify_content": null,
            "justify_items": null,
            "left": null,
            "margin": null,
            "max_height": null,
            "max_width": null,
            "min_height": null,
            "min_width": null,
            "object_fit": null,
            "object_position": null,
            "order": null,
            "overflow": null,
            "overflow_x": null,
            "overflow_y": null,
            "padding": null,
            "right": null,
            "top": null,
            "visibility": null,
            "width": null
          }
        },
        "604dde1b9ea04f6d8b75d340b51bd722": {
          "model_module": "@jupyter-widgets/controls",
          "model_name": "DescriptionStyleModel",
          "model_module_version": "1.5.0",
          "state": {
            "_model_module": "@jupyter-widgets/controls",
            "_model_module_version": "1.5.0",
            "_model_name": "DescriptionStyleModel",
            "_view_count": null,
            "_view_module": "@jupyter-widgets/base",
            "_view_module_version": "1.2.0",
            "_view_name": "StyleView",
            "description_width": ""
          }
        },
        "bae4b9cbbc894066aef827ff23b10f0f": {
          "model_module": "@jupyter-widgets/controls",
          "model_name": "HBoxModel",
          "model_module_version": "1.5.0",
          "state": {
            "_dom_classes": [],
            "_model_module": "@jupyter-widgets/controls",
            "_model_module_version": "1.5.0",
            "_model_name": "HBoxModel",
            "_view_count": null,
            "_view_module": "@jupyter-widgets/controls",
            "_view_module_version": "1.5.0",
            "_view_name": "HBoxView",
            "box_style": "",
            "children": [
              "IPY_MODEL_638b5192796f4f0fb66cc0d33468a61d",
              "IPY_MODEL_8ed119dc86ad47ee9e0959d8e8ffc574",
              "IPY_MODEL_77462dc90ea449eaa18394b029df6462"
            ],
            "layout": "IPY_MODEL_bd37001a1254477a8da5d5c974502c0e"
          }
        },
        "638b5192796f4f0fb66cc0d33468a61d": {
          "model_module": "@jupyter-widgets/controls",
          "model_name": "HTMLModel",
          "model_module_version": "1.5.0",
          "state": {
            "_dom_classes": [],
            "_model_module": "@jupyter-widgets/controls",
            "_model_module_version": "1.5.0",
            "_model_name": "HTMLModel",
            "_view_count": null,
            "_view_module": "@jupyter-widgets/controls",
            "_view_module_version": "1.5.0",
            "_view_name": "HTMLView",
            "description": "",
            "description_tooltip": null,
            "layout": "IPY_MODEL_8065796cdd36472fac5f57f012fa1a59",
            "placeholder": "​",
            "style": "IPY_MODEL_7db1bad628ae4f5d834c2327c4268f46",
            "value": "Downloading (…)solve/main/vocab.txt: 100%"
          }
        },
        "8ed119dc86ad47ee9e0959d8e8ffc574": {
          "model_module": "@jupyter-widgets/controls",
          "model_name": "FloatProgressModel",
          "model_module_version": "1.5.0",
          "state": {
            "_dom_classes": [],
            "_model_module": "@jupyter-widgets/controls",
            "_model_module_version": "1.5.0",
            "_model_name": "FloatProgressModel",
            "_view_count": null,
            "_view_module": "@jupyter-widgets/controls",
            "_view_module_version": "1.5.0",
            "_view_name": "ProgressView",
            "bar_style": "success",
            "description": "",
            "description_tooltip": null,
            "layout": "IPY_MODEL_b000ec0a24844ec8a291af82ab469305",
            "max": 241082,
            "min": 0,
            "orientation": "horizontal",
            "style": "IPY_MODEL_97d66a9fb284401fa82ed1b0099738fe",
            "value": 241082
          }
        },
        "77462dc90ea449eaa18394b029df6462": {
          "model_module": "@jupyter-widgets/controls",
          "model_name": "HTMLModel",
          "model_module_version": "1.5.0",
          "state": {
            "_dom_classes": [],
            "_model_module": "@jupyter-widgets/controls",
            "_model_module_version": "1.5.0",
            "_model_name": "HTMLModel",
            "_view_count": null,
            "_view_module": "@jupyter-widgets/controls",
            "_view_module_version": "1.5.0",
            "_view_name": "HTMLView",
            "description": "",
            "description_tooltip": null,
            "layout": "IPY_MODEL_5e371381b75c44ad8c024b7e8f826130",
            "placeholder": "​",
            "style": "IPY_MODEL_c3a39866ea0d4bf38deb04677964c40e",
            "value": " 241k/241k [00:00&lt;00:00, 2.23MB/s]"
          }
        },
        "bd37001a1254477a8da5d5c974502c0e": {
          "model_module": "@jupyter-widgets/base",
          "model_name": "LayoutModel",
          "model_module_version": "1.2.0",
          "state": {
            "_model_module": "@jupyter-widgets/base",
            "_model_module_version": "1.2.0",
            "_model_name": "LayoutModel",
            "_view_count": null,
            "_view_module": "@jupyter-widgets/base",
            "_view_module_version": "1.2.0",
            "_view_name": "LayoutView",
            "align_content": null,
            "align_items": null,
            "align_self": null,
            "border": null,
            "bottom": null,
            "display": null,
            "flex": null,
            "flex_flow": null,
            "grid_area": null,
            "grid_auto_columns": null,
            "grid_auto_flow": null,
            "grid_auto_rows": null,
            "grid_column": null,
            "grid_gap": null,
            "grid_row": null,
            "grid_template_areas": null,
            "grid_template_columns": null,
            "grid_template_rows": null,
            "height": null,
            "justify_content": null,
            "justify_items": null,
            "left": null,
            "margin": null,
            "max_height": null,
            "max_width": null,
            "min_height": null,
            "min_width": null,
            "object_fit": null,
            "object_position": null,
            "order": null,
            "overflow": null,
            "overflow_x": null,
            "overflow_y": null,
            "padding": null,
            "right": null,
            "top": null,
            "visibility": null,
            "width": null
          }
        },
        "8065796cdd36472fac5f57f012fa1a59": {
          "model_module": "@jupyter-widgets/base",
          "model_name": "LayoutModel",
          "model_module_version": "1.2.0",
          "state": {
            "_model_module": "@jupyter-widgets/base",
            "_model_module_version": "1.2.0",
            "_model_name": "LayoutModel",
            "_view_count": null,
            "_view_module": "@jupyter-widgets/base",
            "_view_module_version": "1.2.0",
            "_view_name": "LayoutView",
            "align_content": null,
            "align_items": null,
            "align_self": null,
            "border": null,
            "bottom": null,
            "display": null,
            "flex": null,
            "flex_flow": null,
            "grid_area": null,
            "grid_auto_columns": null,
            "grid_auto_flow": null,
            "grid_auto_rows": null,
            "grid_column": null,
            "grid_gap": null,
            "grid_row": null,
            "grid_template_areas": null,
            "grid_template_columns": null,
            "grid_template_rows": null,
            "height": null,
            "justify_content": null,
            "justify_items": null,
            "left": null,
            "margin": null,
            "max_height": null,
            "max_width": null,
            "min_height": null,
            "min_width": null,
            "object_fit": null,
            "object_position": null,
            "order": null,
            "overflow": null,
            "overflow_x": null,
            "overflow_y": null,
            "padding": null,
            "right": null,
            "top": null,
            "visibility": null,
            "width": null
          }
        },
        "7db1bad628ae4f5d834c2327c4268f46": {
          "model_module": "@jupyter-widgets/controls",
          "model_name": "DescriptionStyleModel",
          "model_module_version": "1.5.0",
          "state": {
            "_model_module": "@jupyter-widgets/controls",
            "_model_module_version": "1.5.0",
            "_model_name": "DescriptionStyleModel",
            "_view_count": null,
            "_view_module": "@jupyter-widgets/base",
            "_view_module_version": "1.2.0",
            "_view_name": "StyleView",
            "description_width": ""
          }
        },
        "b000ec0a24844ec8a291af82ab469305": {
          "model_module": "@jupyter-widgets/base",
          "model_name": "LayoutModel",
          "model_module_version": "1.2.0",
          "state": {
            "_model_module": "@jupyter-widgets/base",
            "_model_module_version": "1.2.0",
            "_model_name": "LayoutModel",
            "_view_count": null,
            "_view_module": "@jupyter-widgets/base",
            "_view_module_version": "1.2.0",
            "_view_name": "LayoutView",
            "align_content": null,
            "align_items": null,
            "align_self": null,
            "border": null,
            "bottom": null,
            "display": null,
            "flex": null,
            "flex_flow": null,
            "grid_area": null,
            "grid_auto_columns": null,
            "grid_auto_flow": null,
            "grid_auto_rows": null,
            "grid_column": null,
            "grid_gap": null,
            "grid_row": null,
            "grid_template_areas": null,
            "grid_template_columns": null,
            "grid_template_rows": null,
            "height": null,
            "justify_content": null,
            "justify_items": null,
            "left": null,
            "margin": null,
            "max_height": null,
            "max_width": null,
            "min_height": null,
            "min_width": null,
            "object_fit": null,
            "object_position": null,
            "order": null,
            "overflow": null,
            "overflow_x": null,
            "overflow_y": null,
            "padding": null,
            "right": null,
            "top": null,
            "visibility": null,
            "width": null
          }
        },
        "97d66a9fb284401fa82ed1b0099738fe": {
          "model_module": "@jupyter-widgets/controls",
          "model_name": "ProgressStyleModel",
          "model_module_version": "1.5.0",
          "state": {
            "_model_module": "@jupyter-widgets/controls",
            "_model_module_version": "1.5.0",
            "_model_name": "ProgressStyleModel",
            "_view_count": null,
            "_view_module": "@jupyter-widgets/base",
            "_view_module_version": "1.2.0",
            "_view_name": "StyleView",
            "bar_color": null,
            "description_width": ""
          }
        },
        "5e371381b75c44ad8c024b7e8f826130": {
          "model_module": "@jupyter-widgets/base",
          "model_name": "LayoutModel",
          "model_module_version": "1.2.0",
          "state": {
            "_model_module": "@jupyter-widgets/base",
            "_model_module_version": "1.2.0",
            "_model_name": "LayoutModel",
            "_view_count": null,
            "_view_module": "@jupyter-widgets/base",
            "_view_module_version": "1.2.0",
            "_view_name": "LayoutView",
            "align_content": null,
            "align_items": null,
            "align_self": null,
            "border": null,
            "bottom": null,
            "display": null,
            "flex": null,
            "flex_flow": null,
            "grid_area": null,
            "grid_auto_columns": null,
            "grid_auto_flow": null,
            "grid_auto_rows": null,
            "grid_column": null,
            "grid_gap": null,
            "grid_row": null,
            "grid_template_areas": null,
            "grid_template_columns": null,
            "grid_template_rows": null,
            "height": null,
            "justify_content": null,
            "justify_items": null,
            "left": null,
            "margin": null,
            "max_height": null,
            "max_width": null,
            "min_height": null,
            "min_width": null,
            "object_fit": null,
            "object_position": null,
            "order": null,
            "overflow": null,
            "overflow_x": null,
            "overflow_y": null,
            "padding": null,
            "right": null,
            "top": null,
            "visibility": null,
            "width": null
          }
        },
        "c3a39866ea0d4bf38deb04677964c40e": {
          "model_module": "@jupyter-widgets/controls",
          "model_name": "DescriptionStyleModel",
          "model_module_version": "1.5.0",
          "state": {
            "_model_module": "@jupyter-widgets/controls",
            "_model_module_version": "1.5.0",
            "_model_name": "DescriptionStyleModel",
            "_view_count": null,
            "_view_module": "@jupyter-widgets/base",
            "_view_module_version": "1.2.0",
            "_view_name": "StyleView",
            "description_width": ""
          }
        },
        "3ed5e168c5d344b697643f65e6afe582": {
          "model_module": "@jupyter-widgets/controls",
          "model_name": "HBoxModel",
          "model_module_version": "1.5.0",
          "state": {
            "_dom_classes": [],
            "_model_module": "@jupyter-widgets/controls",
            "_model_module_version": "1.5.0",
            "_model_name": "HBoxModel",
            "_view_count": null,
            "_view_module": "@jupyter-widgets/controls",
            "_view_module_version": "1.5.0",
            "_view_name": "HBoxView",
            "box_style": "",
            "children": [
              "IPY_MODEL_fcfbdee518c843acb67ba225d8b6a1d2",
              "IPY_MODEL_8ef33af626f24d87bc6b36043e6a1719",
              "IPY_MODEL_b1f865f6392d437499d1f87d401ee743"
            ],
            "layout": "IPY_MODEL_7e7d585d1fe04fb083e9682ddedd7f47"
          }
        },
        "fcfbdee518c843acb67ba225d8b6a1d2": {
          "model_module": "@jupyter-widgets/controls",
          "model_name": "HTMLModel",
          "model_module_version": "1.5.0",
          "state": {
            "_dom_classes": [],
            "_model_module": "@jupyter-widgets/controls",
            "_model_module_version": "1.5.0",
            "_model_name": "HTMLModel",
            "_view_count": null,
            "_view_module": "@jupyter-widgets/controls",
            "_view_module_version": "1.5.0",
            "_view_name": "HTMLView",
            "description": "",
            "description_tooltip": null,
            "layout": "IPY_MODEL_0d966f18c87443f9af478f6ce3e43a75",
            "placeholder": "​",
            "style": "IPY_MODEL_b29bbce1d2a644449f7495165b962737",
            "value": "Downloading (…)/main/tokenizer.json: 100%"
          }
        },
        "8ef33af626f24d87bc6b36043e6a1719": {
          "model_module": "@jupyter-widgets/controls",
          "model_name": "FloatProgressModel",
          "model_module_version": "1.5.0",
          "state": {
            "_dom_classes": [],
            "_model_module": "@jupyter-widgets/controls",
            "_model_module_version": "1.5.0",
            "_model_name": "FloatProgressModel",
            "_view_count": null,
            "_view_module": "@jupyter-widgets/controls",
            "_view_module_version": "1.5.0",
            "_view_name": "ProgressView",
            "bar_style": "success",
            "description": "",
            "description_tooltip": null,
            "layout": "IPY_MODEL_0000607b41684ed2887e4d5999f036fc",
            "max": 468145,
            "min": 0,
            "orientation": "horizontal",
            "style": "IPY_MODEL_dc5d093b6c1d4edca87a2ff053402093",
            "value": 468145
          }
        },
        "b1f865f6392d437499d1f87d401ee743": {
          "model_module": "@jupyter-widgets/controls",
          "model_name": "HTMLModel",
          "model_module_version": "1.5.0",
          "state": {
            "_dom_classes": [],
            "_model_module": "@jupyter-widgets/controls",
            "_model_module_version": "1.5.0",
            "_model_name": "HTMLModel",
            "_view_count": null,
            "_view_module": "@jupyter-widgets/controls",
            "_view_module_version": "1.5.0",
            "_view_name": "HTMLView",
            "description": "",
            "description_tooltip": null,
            "layout": "IPY_MODEL_0f7a097ad0c04fc1aea76d5eba1460f3",
            "placeholder": "​",
            "style": "IPY_MODEL_211251de7bb34373b68351bec2022b01",
            "value": " 468k/468k [00:00&lt;00:00, 5.39MB/s]"
          }
        },
        "7e7d585d1fe04fb083e9682ddedd7f47": {
          "model_module": "@jupyter-widgets/base",
          "model_name": "LayoutModel",
          "model_module_version": "1.2.0",
          "state": {
            "_model_module": "@jupyter-widgets/base",
            "_model_module_version": "1.2.0",
            "_model_name": "LayoutModel",
            "_view_count": null,
            "_view_module": "@jupyter-widgets/base",
            "_view_module_version": "1.2.0",
            "_view_name": "LayoutView",
            "align_content": null,
            "align_items": null,
            "align_self": null,
            "border": null,
            "bottom": null,
            "display": null,
            "flex": null,
            "flex_flow": null,
            "grid_area": null,
            "grid_auto_columns": null,
            "grid_auto_flow": null,
            "grid_auto_rows": null,
            "grid_column": null,
            "grid_gap": null,
            "grid_row": null,
            "grid_template_areas": null,
            "grid_template_columns": null,
            "grid_template_rows": null,
            "height": null,
            "justify_content": null,
            "justify_items": null,
            "left": null,
            "margin": null,
            "max_height": null,
            "max_width": null,
            "min_height": null,
            "min_width": null,
            "object_fit": null,
            "object_position": null,
            "order": null,
            "overflow": null,
            "overflow_x": null,
            "overflow_y": null,
            "padding": null,
            "right": null,
            "top": null,
            "visibility": null,
            "width": null
          }
        },
        "0d966f18c87443f9af478f6ce3e43a75": {
          "model_module": "@jupyter-widgets/base",
          "model_name": "LayoutModel",
          "model_module_version": "1.2.0",
          "state": {
            "_model_module": "@jupyter-widgets/base",
            "_model_module_version": "1.2.0",
            "_model_name": "LayoutModel",
            "_view_count": null,
            "_view_module": "@jupyter-widgets/base",
            "_view_module_version": "1.2.0",
            "_view_name": "LayoutView",
            "align_content": null,
            "align_items": null,
            "align_self": null,
            "border": null,
            "bottom": null,
            "display": null,
            "flex": null,
            "flex_flow": null,
            "grid_area": null,
            "grid_auto_columns": null,
            "grid_auto_flow": null,
            "grid_auto_rows": null,
            "grid_column": null,
            "grid_gap": null,
            "grid_row": null,
            "grid_template_areas": null,
            "grid_template_columns": null,
            "grid_template_rows": null,
            "height": null,
            "justify_content": null,
            "justify_items": null,
            "left": null,
            "margin": null,
            "max_height": null,
            "max_width": null,
            "min_height": null,
            "min_width": null,
            "object_fit": null,
            "object_position": null,
            "order": null,
            "overflow": null,
            "overflow_x": null,
            "overflow_y": null,
            "padding": null,
            "right": null,
            "top": null,
            "visibility": null,
            "width": null
          }
        },
        "b29bbce1d2a644449f7495165b962737": {
          "model_module": "@jupyter-widgets/controls",
          "model_name": "DescriptionStyleModel",
          "model_module_version": "1.5.0",
          "state": {
            "_model_module": "@jupyter-widgets/controls",
            "_model_module_version": "1.5.0",
            "_model_name": "DescriptionStyleModel",
            "_view_count": null,
            "_view_module": "@jupyter-widgets/base",
            "_view_module_version": "1.2.0",
            "_view_name": "StyleView",
            "description_width": ""
          }
        },
        "0000607b41684ed2887e4d5999f036fc": {
          "model_module": "@jupyter-widgets/base",
          "model_name": "LayoutModel",
          "model_module_version": "1.2.0",
          "state": {
            "_model_module": "@jupyter-widgets/base",
            "_model_module_version": "1.2.0",
            "_model_name": "LayoutModel",
            "_view_count": null,
            "_view_module": "@jupyter-widgets/base",
            "_view_module_version": "1.2.0",
            "_view_name": "LayoutView",
            "align_content": null,
            "align_items": null,
            "align_self": null,
            "border": null,
            "bottom": null,
            "display": null,
            "flex": null,
            "flex_flow": null,
            "grid_area": null,
            "grid_auto_columns": null,
            "grid_auto_flow": null,
            "grid_auto_rows": null,
            "grid_column": null,
            "grid_gap": null,
            "grid_row": null,
            "grid_template_areas": null,
            "grid_template_columns": null,
            "grid_template_rows": null,
            "height": null,
            "justify_content": null,
            "justify_items": null,
            "left": null,
            "margin": null,
            "max_height": null,
            "max_width": null,
            "min_height": null,
            "min_width": null,
            "object_fit": null,
            "object_position": null,
            "order": null,
            "overflow": null,
            "overflow_x": null,
            "overflow_y": null,
            "padding": null,
            "right": null,
            "top": null,
            "visibility": null,
            "width": null
          }
        },
        "dc5d093b6c1d4edca87a2ff053402093": {
          "model_module": "@jupyter-widgets/controls",
          "model_name": "ProgressStyleModel",
          "model_module_version": "1.5.0",
          "state": {
            "_model_module": "@jupyter-widgets/controls",
            "_model_module_version": "1.5.0",
            "_model_name": "ProgressStyleModel",
            "_view_count": null,
            "_view_module": "@jupyter-widgets/base",
            "_view_module_version": "1.2.0",
            "_view_name": "StyleView",
            "bar_color": null,
            "description_width": ""
          }
        },
        "0f7a097ad0c04fc1aea76d5eba1460f3": {
          "model_module": "@jupyter-widgets/base",
          "model_name": "LayoutModel",
          "model_module_version": "1.2.0",
          "state": {
            "_model_module": "@jupyter-widgets/base",
            "_model_module_version": "1.2.0",
            "_model_name": "LayoutModel",
            "_view_count": null,
            "_view_module": "@jupyter-widgets/base",
            "_view_module_version": "1.2.0",
            "_view_name": "LayoutView",
            "align_content": null,
            "align_items": null,
            "align_self": null,
            "border": null,
            "bottom": null,
            "display": null,
            "flex": null,
            "flex_flow": null,
            "grid_area": null,
            "grid_auto_columns": null,
            "grid_auto_flow": null,
            "grid_auto_rows": null,
            "grid_column": null,
            "grid_gap": null,
            "grid_row": null,
            "grid_template_areas": null,
            "grid_template_columns": null,
            "grid_template_rows": null,
            "height": null,
            "justify_content": null,
            "justify_items": null,
            "left": null,
            "margin": null,
            "max_height": null,
            "max_width": null,
            "min_height": null,
            "min_width": null,
            "object_fit": null,
            "object_position": null,
            "order": null,
            "overflow": null,
            "overflow_x": null,
            "overflow_y": null,
            "padding": null,
            "right": null,
            "top": null,
            "visibility": null,
            "width": null
          }
        },
        "211251de7bb34373b68351bec2022b01": {
          "model_module": "@jupyter-widgets/controls",
          "model_name": "DescriptionStyleModel",
          "model_module_version": "1.5.0",
          "state": {
            "_model_module": "@jupyter-widgets/controls",
            "_model_module_version": "1.5.0",
            "_model_name": "DescriptionStyleModel",
            "_view_count": null,
            "_view_module": "@jupyter-widgets/base",
            "_view_module_version": "1.2.0",
            "_view_name": "StyleView",
            "description_width": ""
          }
        },
        "7a11d989e58148d7937f5c47ae492845": {
          "model_module": "@jupyter-widgets/controls",
          "model_name": "HBoxModel",
          "model_module_version": "1.5.0",
          "state": {
            "_dom_classes": [],
            "_model_module": "@jupyter-widgets/controls",
            "_model_module_version": "1.5.0",
            "_model_name": "HBoxModel",
            "_view_count": null,
            "_view_module": "@jupyter-widgets/controls",
            "_view_module_version": "1.5.0",
            "_view_name": "HBoxView",
            "box_style": "",
            "children": [
              "IPY_MODEL_8f9da875f1464a05b819087cf439a808",
              "IPY_MODEL_1e10fe3d6fec47888780f5f559c34a2f",
              "IPY_MODEL_f0f794eb586e4e5c9659066a8cc01b9b"
            ],
            "layout": "IPY_MODEL_1ff30c84ed6340969f2bababd747833d"
          }
        },
        "8f9da875f1464a05b819087cf439a808": {
          "model_module": "@jupyter-widgets/controls",
          "model_name": "HTMLModel",
          "model_module_version": "1.5.0",
          "state": {
            "_dom_classes": [],
            "_model_module": "@jupyter-widgets/controls",
            "_model_module_version": "1.5.0",
            "_model_name": "HTMLModel",
            "_view_count": null,
            "_view_module": "@jupyter-widgets/controls",
            "_view_module_version": "1.5.0",
            "_view_name": "HTMLView",
            "description": "",
            "description_tooltip": null,
            "layout": "IPY_MODEL_16ab325e0d7646b09006952e46f91080",
            "placeholder": "​",
            "style": "IPY_MODEL_00bc12e6ec2746f880ad858ec7160c69",
            "value": "Downloading (…)cial_tokens_map.json: 100%"
          }
        },
        "1e10fe3d6fec47888780f5f559c34a2f": {
          "model_module": "@jupyter-widgets/controls",
          "model_name": "FloatProgressModel",
          "model_module_version": "1.5.0",
          "state": {
            "_dom_classes": [],
            "_model_module": "@jupyter-widgets/controls",
            "_model_module_version": "1.5.0",
            "_model_name": "FloatProgressModel",
            "_view_count": null,
            "_view_module": "@jupyter-widgets/controls",
            "_view_module_version": "1.5.0",
            "_view_name": "ProgressView",
            "bar_style": "success",
            "description": "",
            "description_tooltip": null,
            "layout": "IPY_MODEL_72b5b02b08754c8e8ea162f0250b1bc5",
            "max": 112,
            "min": 0,
            "orientation": "horizontal",
            "style": "IPY_MODEL_f7814ab4762d487db198170706c9ce6c",
            "value": 112
          }
        },
        "f0f794eb586e4e5c9659066a8cc01b9b": {
          "model_module": "@jupyter-widgets/controls",
          "model_name": "HTMLModel",
          "model_module_version": "1.5.0",
          "state": {
            "_dom_classes": [],
            "_model_module": "@jupyter-widgets/controls",
            "_model_module_version": "1.5.0",
            "_model_name": "HTMLModel",
            "_view_count": null,
            "_view_module": "@jupyter-widgets/controls",
            "_view_module_version": "1.5.0",
            "_view_name": "HTMLView",
            "description": "",
            "description_tooltip": null,
            "layout": "IPY_MODEL_1fe2581b7d46467389ced9c54794dd3d",
            "placeholder": "​",
            "style": "IPY_MODEL_bcdc3b952eb74ef794e975094357af10",
            "value": " 112/112 [00:00&lt;00:00, 1.42kB/s]"
          }
        },
        "1ff30c84ed6340969f2bababd747833d": {
          "model_module": "@jupyter-widgets/base",
          "model_name": "LayoutModel",
          "model_module_version": "1.2.0",
          "state": {
            "_model_module": "@jupyter-widgets/base",
            "_model_module_version": "1.2.0",
            "_model_name": "LayoutModel",
            "_view_count": null,
            "_view_module": "@jupyter-widgets/base",
            "_view_module_version": "1.2.0",
            "_view_name": "LayoutView",
            "align_content": null,
            "align_items": null,
            "align_self": null,
            "border": null,
            "bottom": null,
            "display": null,
            "flex": null,
            "flex_flow": null,
            "grid_area": null,
            "grid_auto_columns": null,
            "grid_auto_flow": null,
            "grid_auto_rows": null,
            "grid_column": null,
            "grid_gap": null,
            "grid_row": null,
            "grid_template_areas": null,
            "grid_template_columns": null,
            "grid_template_rows": null,
            "height": null,
            "justify_content": null,
            "justify_items": null,
            "left": null,
            "margin": null,
            "max_height": null,
            "max_width": null,
            "min_height": null,
            "min_width": null,
            "object_fit": null,
            "object_position": null,
            "order": null,
            "overflow": null,
            "overflow_x": null,
            "overflow_y": null,
            "padding": null,
            "right": null,
            "top": null,
            "visibility": null,
            "width": null
          }
        },
        "16ab325e0d7646b09006952e46f91080": {
          "model_module": "@jupyter-widgets/base",
          "model_name": "LayoutModel",
          "model_module_version": "1.2.0",
          "state": {
            "_model_module": "@jupyter-widgets/base",
            "_model_module_version": "1.2.0",
            "_model_name": "LayoutModel",
            "_view_count": null,
            "_view_module": "@jupyter-widgets/base",
            "_view_module_version": "1.2.0",
            "_view_name": "LayoutView",
            "align_content": null,
            "align_items": null,
            "align_self": null,
            "border": null,
            "bottom": null,
            "display": null,
            "flex": null,
            "flex_flow": null,
            "grid_area": null,
            "grid_auto_columns": null,
            "grid_auto_flow": null,
            "grid_auto_rows": null,
            "grid_column": null,
            "grid_gap": null,
            "grid_row": null,
            "grid_template_areas": null,
            "grid_template_columns": null,
            "grid_template_rows": null,
            "height": null,
            "justify_content": null,
            "justify_items": null,
            "left": null,
            "margin": null,
            "max_height": null,
            "max_width": null,
            "min_height": null,
            "min_width": null,
            "object_fit": null,
            "object_position": null,
            "order": null,
            "overflow": null,
            "overflow_x": null,
            "overflow_y": null,
            "padding": null,
            "right": null,
            "top": null,
            "visibility": null,
            "width": null
          }
        },
        "00bc12e6ec2746f880ad858ec7160c69": {
          "model_module": "@jupyter-widgets/controls",
          "model_name": "DescriptionStyleModel",
          "model_module_version": "1.5.0",
          "state": {
            "_model_module": "@jupyter-widgets/controls",
            "_model_module_version": "1.5.0",
            "_model_name": "DescriptionStyleModel",
            "_view_count": null,
            "_view_module": "@jupyter-widgets/base",
            "_view_module_version": "1.2.0",
            "_view_name": "StyleView",
            "description_width": ""
          }
        },
        "72b5b02b08754c8e8ea162f0250b1bc5": {
          "model_module": "@jupyter-widgets/base",
          "model_name": "LayoutModel",
          "model_module_version": "1.2.0",
          "state": {
            "_model_module": "@jupyter-widgets/base",
            "_model_module_version": "1.2.0",
            "_model_name": "LayoutModel",
            "_view_count": null,
            "_view_module": "@jupyter-widgets/base",
            "_view_module_version": "1.2.0",
            "_view_name": "LayoutView",
            "align_content": null,
            "align_items": null,
            "align_self": null,
            "border": null,
            "bottom": null,
            "display": null,
            "flex": null,
            "flex_flow": null,
            "grid_area": null,
            "grid_auto_columns": null,
            "grid_auto_flow": null,
            "grid_auto_rows": null,
            "grid_column": null,
            "grid_gap": null,
            "grid_row": null,
            "grid_template_areas": null,
            "grid_template_columns": null,
            "grid_template_rows": null,
            "height": null,
            "justify_content": null,
            "justify_items": null,
            "left": null,
            "margin": null,
            "max_height": null,
            "max_width": null,
            "min_height": null,
            "min_width": null,
            "object_fit": null,
            "object_position": null,
            "order": null,
            "overflow": null,
            "overflow_x": null,
            "overflow_y": null,
            "padding": null,
            "right": null,
            "top": null,
            "visibility": null,
            "width": null
          }
        },
        "f7814ab4762d487db198170706c9ce6c": {
          "model_module": "@jupyter-widgets/controls",
          "model_name": "ProgressStyleModel",
          "model_module_version": "1.5.0",
          "state": {
            "_model_module": "@jupyter-widgets/controls",
            "_model_module_version": "1.5.0",
            "_model_name": "ProgressStyleModel",
            "_view_count": null,
            "_view_module": "@jupyter-widgets/base",
            "_view_module_version": "1.2.0",
            "_view_name": "StyleView",
            "bar_color": null,
            "description_width": ""
          }
        },
        "1fe2581b7d46467389ced9c54794dd3d": {
          "model_module": "@jupyter-widgets/base",
          "model_name": "LayoutModel",
          "model_module_version": "1.2.0",
          "state": {
            "_model_module": "@jupyter-widgets/base",
            "_model_module_version": "1.2.0",
            "_model_name": "LayoutModel",
            "_view_count": null,
            "_view_module": "@jupyter-widgets/base",
            "_view_module_version": "1.2.0",
            "_view_name": "LayoutView",
            "align_content": null,
            "align_items": null,
            "align_self": null,
            "border": null,
            "bottom": null,
            "display": null,
            "flex": null,
            "flex_flow": null,
            "grid_area": null,
            "grid_auto_columns": null,
            "grid_auto_flow": null,
            "grid_auto_rows": null,
            "grid_column": null,
            "grid_gap": null,
            "grid_row": null,
            "grid_template_areas": null,
            "grid_template_columns": null,
            "grid_template_rows": null,
            "height": null,
            "justify_content": null,
            "justify_items": null,
            "left": null,
            "margin": null,
            "max_height": null,
            "max_width": null,
            "min_height": null,
            "min_width": null,
            "object_fit": null,
            "object_position": null,
            "order": null,
            "overflow": null,
            "overflow_x": null,
            "overflow_y": null,
            "padding": null,
            "right": null,
            "top": null,
            "visibility": null,
            "width": null
          }
        },
        "bcdc3b952eb74ef794e975094357af10": {
          "model_module": "@jupyter-widgets/controls",
          "model_name": "DescriptionStyleModel",
          "model_module_version": "1.5.0",
          "state": {
            "_model_module": "@jupyter-widgets/controls",
            "_model_module_version": "1.5.0",
            "_model_name": "DescriptionStyleModel",
            "_view_count": null,
            "_view_module": "@jupyter-widgets/base",
            "_view_module_version": "1.2.0",
            "_view_name": "StyleView",
            "description_width": ""
          }
        },
        "9809d03b1e9b4ae0a99ff2ca91a65f7d": {
          "model_module": "@jupyter-widgets/controls",
          "model_name": "HBoxModel",
          "model_module_version": "1.5.0",
          "state": {
            "_dom_classes": [],
            "_model_module": "@jupyter-widgets/controls",
            "_model_module_version": "1.5.0",
            "_model_name": "HBoxModel",
            "_view_count": null,
            "_view_module": "@jupyter-widgets/controls",
            "_view_module_version": "1.5.0",
            "_view_name": "HBoxView",
            "box_style": "",
            "children": [
              "IPY_MODEL_77f1785c73704c69a4009bd051d83a06",
              "IPY_MODEL_b1299b78aa5c4b8890f5632142cf6d03",
              "IPY_MODEL_000ef7411d6642e1ab27704a1537ac08"
            ],
            "layout": "IPY_MODEL_00570ee234ea489183bbd04a44b02480"
          }
        },
        "77f1785c73704c69a4009bd051d83a06": {
          "model_module": "@jupyter-widgets/controls",
          "model_name": "HTMLModel",
          "model_module_version": "1.5.0",
          "state": {
            "_dom_classes": [],
            "_model_module": "@jupyter-widgets/controls",
            "_model_module_version": "1.5.0",
            "_model_name": "HTMLModel",
            "_view_count": null,
            "_view_module": "@jupyter-widgets/controls",
            "_view_module_version": "1.5.0",
            "_view_name": "HTMLView",
            "description": "",
            "description_tooltip": null,
            "layout": "IPY_MODEL_721dd7da0dc9418fa51569552e37c4e2",
            "placeholder": "​",
            "style": "IPY_MODEL_753d627df3ca4b389bb5d101782635e9",
            "value": "Downloading model.safetensors: 100%"
          }
        },
        "b1299b78aa5c4b8890f5632142cf6d03": {
          "model_module": "@jupyter-widgets/controls",
          "model_name": "FloatProgressModel",
          "model_module_version": "1.5.0",
          "state": {
            "_dom_classes": [],
            "_model_module": "@jupyter-widgets/controls",
            "_model_module_version": "1.5.0",
            "_model_name": "FloatProgressModel",
            "_view_count": null,
            "_view_module": "@jupyter-widgets/controls",
            "_view_module_version": "1.5.0",
            "_view_name": "ProgressView",
            "bar_style": "success",
            "description": "",
            "description_tooltip": null,
            "layout": "IPY_MODEL_14113d453da54d2c9dec280dbab5e01c",
            "max": 47661730,
            "min": 0,
            "orientation": "horizontal",
            "style": "IPY_MODEL_73dd44a08e954b61a24e1f3faeebfdef",
            "value": 47661730
          }
        },
        "000ef7411d6642e1ab27704a1537ac08": {
          "model_module": "@jupyter-widgets/controls",
          "model_name": "HTMLModel",
          "model_module_version": "1.5.0",
          "state": {
            "_dom_classes": [],
            "_model_module": "@jupyter-widgets/controls",
            "_model_module_version": "1.5.0",
            "_model_name": "HTMLModel",
            "_view_count": null,
            "_view_module": "@jupyter-widgets/controls",
            "_view_module_version": "1.5.0",
            "_view_name": "HTMLView",
            "description": "",
            "description_tooltip": null,
            "layout": "IPY_MODEL_a019717460c64e69b68e1ec8b0ad712c",
            "placeholder": "​",
            "style": "IPY_MODEL_8242b2178ed44dd2be5bf2b66402dec2",
            "value": " 47.7M/47.7M [00:00&lt;00:00, 78.5MB/s]"
          }
        },
        "00570ee234ea489183bbd04a44b02480": {
          "model_module": "@jupyter-widgets/base",
          "model_name": "LayoutModel",
          "model_module_version": "1.2.0",
          "state": {
            "_model_module": "@jupyter-widgets/base",
            "_model_module_version": "1.2.0",
            "_model_name": "LayoutModel",
            "_view_count": null,
            "_view_module": "@jupyter-widgets/base",
            "_view_module_version": "1.2.0",
            "_view_name": "LayoutView",
            "align_content": null,
            "align_items": null,
            "align_self": null,
            "border": null,
            "bottom": null,
            "display": null,
            "flex": null,
            "flex_flow": null,
            "grid_area": null,
            "grid_auto_columns": null,
            "grid_auto_flow": null,
            "grid_auto_rows": null,
            "grid_column": null,
            "grid_gap": null,
            "grid_row": null,
            "grid_template_areas": null,
            "grid_template_columns": null,
            "grid_template_rows": null,
            "height": null,
            "justify_content": null,
            "justify_items": null,
            "left": null,
            "margin": null,
            "max_height": null,
            "max_width": null,
            "min_height": null,
            "min_width": null,
            "object_fit": null,
            "object_position": null,
            "order": null,
            "overflow": null,
            "overflow_x": null,
            "overflow_y": null,
            "padding": null,
            "right": null,
            "top": null,
            "visibility": null,
            "width": null
          }
        },
        "721dd7da0dc9418fa51569552e37c4e2": {
          "model_module": "@jupyter-widgets/base",
          "model_name": "LayoutModel",
          "model_module_version": "1.2.0",
          "state": {
            "_model_module": "@jupyter-widgets/base",
            "_model_module_version": "1.2.0",
            "_model_name": "LayoutModel",
            "_view_count": null,
            "_view_module": "@jupyter-widgets/base",
            "_view_module_version": "1.2.0",
            "_view_name": "LayoutView",
            "align_content": null,
            "align_items": null,
            "align_self": null,
            "border": null,
            "bottom": null,
            "display": null,
            "flex": null,
            "flex_flow": null,
            "grid_area": null,
            "grid_auto_columns": null,
            "grid_auto_flow": null,
            "grid_auto_rows": null,
            "grid_column": null,
            "grid_gap": null,
            "grid_row": null,
            "grid_template_areas": null,
            "grid_template_columns": null,
            "grid_template_rows": null,
            "height": null,
            "justify_content": null,
            "justify_items": null,
            "left": null,
            "margin": null,
            "max_height": null,
            "max_width": null,
            "min_height": null,
            "min_width": null,
            "object_fit": null,
            "object_position": null,
            "order": null,
            "overflow": null,
            "overflow_x": null,
            "overflow_y": null,
            "padding": null,
            "right": null,
            "top": null,
            "visibility": null,
            "width": null
          }
        },
        "753d627df3ca4b389bb5d101782635e9": {
          "model_module": "@jupyter-widgets/controls",
          "model_name": "DescriptionStyleModel",
          "model_module_version": "1.5.0",
          "state": {
            "_model_module": "@jupyter-widgets/controls",
            "_model_module_version": "1.5.0",
            "_model_name": "DescriptionStyleModel",
            "_view_count": null,
            "_view_module": "@jupyter-widgets/base",
            "_view_module_version": "1.2.0",
            "_view_name": "StyleView",
            "description_width": ""
          }
        },
        "14113d453da54d2c9dec280dbab5e01c": {
          "model_module": "@jupyter-widgets/base",
          "model_name": "LayoutModel",
          "model_module_version": "1.2.0",
          "state": {
            "_model_module": "@jupyter-widgets/base",
            "_model_module_version": "1.2.0",
            "_model_name": "LayoutModel",
            "_view_count": null,
            "_view_module": "@jupyter-widgets/base",
            "_view_module_version": "1.2.0",
            "_view_name": "LayoutView",
            "align_content": null,
            "align_items": null,
            "align_self": null,
            "border": null,
            "bottom": null,
            "display": null,
            "flex": null,
            "flex_flow": null,
            "grid_area": null,
            "grid_auto_columns": null,
            "grid_auto_flow": null,
            "grid_auto_rows": null,
            "grid_column": null,
            "grid_gap": null,
            "grid_row": null,
            "grid_template_areas": null,
            "grid_template_columns": null,
            "grid_template_rows": null,
            "height": null,
            "justify_content": null,
            "justify_items": null,
            "left": null,
            "margin": null,
            "max_height": null,
            "max_width": null,
            "min_height": null,
            "min_width": null,
            "object_fit": null,
            "object_position": null,
            "order": null,
            "overflow": null,
            "overflow_x": null,
            "overflow_y": null,
            "padding": null,
            "right": null,
            "top": null,
            "visibility": null,
            "width": null
          }
        },
        "73dd44a08e954b61a24e1f3faeebfdef": {
          "model_module": "@jupyter-widgets/controls",
          "model_name": "ProgressStyleModel",
          "model_module_version": "1.5.0",
          "state": {
            "_model_module": "@jupyter-widgets/controls",
            "_model_module_version": "1.5.0",
            "_model_name": "ProgressStyleModel",
            "_view_count": null,
            "_view_module": "@jupyter-widgets/base",
            "_view_module_version": "1.2.0",
            "_view_name": "StyleView",
            "bar_color": null,
            "description_width": ""
          }
        },
        "a019717460c64e69b68e1ec8b0ad712c": {
          "model_module": "@jupyter-widgets/base",
          "model_name": "LayoutModel",
          "model_module_version": "1.2.0",
          "state": {
            "_model_module": "@jupyter-widgets/base",
            "_model_module_version": "1.2.0",
            "_model_name": "LayoutModel",
            "_view_count": null,
            "_view_module": "@jupyter-widgets/base",
            "_view_module_version": "1.2.0",
            "_view_name": "LayoutView",
            "align_content": null,
            "align_items": null,
            "align_self": null,
            "border": null,
            "bottom": null,
            "display": null,
            "flex": null,
            "flex_flow": null,
            "grid_area": null,
            "grid_auto_columns": null,
            "grid_auto_flow": null,
            "grid_auto_rows": null,
            "grid_column": null,
            "grid_gap": null,
            "grid_row": null,
            "grid_template_areas": null,
            "grid_template_columns": null,
            "grid_template_rows": null,
            "height": null,
            "justify_content": null,
            "justify_items": null,
            "left": null,
            "margin": null,
            "max_height": null,
            "max_width": null,
            "min_height": null,
            "min_width": null,
            "object_fit": null,
            "object_position": null,
            "order": null,
            "overflow": null,
            "overflow_x": null,
            "overflow_y": null,
            "padding": null,
            "right": null,
            "top": null,
            "visibility": null,
            "width": null
          }
        },
        "8242b2178ed44dd2be5bf2b66402dec2": {
          "model_module": "@jupyter-widgets/controls",
          "model_name": "DescriptionStyleModel",
          "model_module_version": "1.5.0",
          "state": {
            "_model_module": "@jupyter-widgets/controls",
            "_model_module_version": "1.5.0",
            "_model_name": "DescriptionStyleModel",
            "_view_count": null,
            "_view_module": "@jupyter-widgets/base",
            "_view_module_version": "1.2.0",
            "_view_name": "StyleView",
            "description_width": ""
          }
        }
      }
    }
  },
  "cells": [
    {
      "cell_type": "code",
      "execution_count": 1,
      "metadata": {
        "colab": {
          "base_uri": "https://localhost:8080/"
        },
        "id": "yKS53BM-9P7T",
        "outputId": "30ab93f7-0d43-4fef-bc6a-f6d91552597c"
      },
      "outputs": [
        {
          "output_type": "stream",
          "name": "stdout",
          "text": [
            "Collecting transformers\n",
            "  Downloading transformers-4.30.2-py3-none-any.whl (7.2 MB)\n",
            "\u001b[2K     \u001b[90m━━━━━━━━━━━━━━━━━━━━━━━━━━━━━━━━━━━━━━━━\u001b[0m \u001b[32m7.2/7.2 MB\u001b[0m \u001b[31m55.1 MB/s\u001b[0m eta \u001b[36m0:00:00\u001b[0m\n",
            "\u001b[?25hCollecting sentencepiece\n",
            "  Downloading sentencepiece-0.1.99-cp310-cp310-manylinux_2_17_x86_64.manylinux2014_x86_64.whl (1.3 MB)\n",
            "\u001b[2K     \u001b[90m━━━━━━━━━━━━━━━━━━━━━━━━━━━━━━━━━━━━━━━━\u001b[0m \u001b[32m1.3/1.3 MB\u001b[0m \u001b[31m55.1 MB/s\u001b[0m eta \u001b[36m0:00:00\u001b[0m\n",
            "\u001b[?25hRequirement already satisfied: filelock in /usr/local/lib/python3.10/dist-packages (from transformers) (3.12.2)\n",
            "Collecting huggingface-hub<1.0,>=0.14.1 (from transformers)\n",
            "  Downloading huggingface_hub-0.16.4-py3-none-any.whl (268 kB)\n",
            "\u001b[2K     \u001b[90m━━━━━━━━━━━━━━━━━━━━━━━━━━━━━━━━━━━━━━\u001b[0m \u001b[32m268.8/268.8 kB\u001b[0m \u001b[31m27.9 MB/s\u001b[0m eta \u001b[36m0:00:00\u001b[0m\n",
            "\u001b[?25hRequirement already satisfied: numpy>=1.17 in /usr/local/lib/python3.10/dist-packages (from transformers) (1.22.4)\n",
            "Requirement already satisfied: packaging>=20.0 in /usr/local/lib/python3.10/dist-packages (from transformers) (23.1)\n",
            "Requirement already satisfied: pyyaml>=5.1 in /usr/local/lib/python3.10/dist-packages (from transformers) (6.0)\n",
            "Requirement already satisfied: regex!=2019.12.17 in /usr/local/lib/python3.10/dist-packages (from transformers) (2022.10.31)\n",
            "Requirement already satisfied: requests in /usr/local/lib/python3.10/dist-packages (from transformers) (2.27.1)\n",
            "Collecting tokenizers!=0.11.3,<0.14,>=0.11.1 (from transformers)\n",
            "  Downloading tokenizers-0.13.3-cp310-cp310-manylinux_2_17_x86_64.manylinux2014_x86_64.whl (7.8 MB)\n",
            "\u001b[2K     \u001b[90m━━━━━━━━━━━━━━━━━━━━━━━━━━━━━━━━━━━━━━━━\u001b[0m \u001b[32m7.8/7.8 MB\u001b[0m \u001b[31m75.9 MB/s\u001b[0m eta \u001b[36m0:00:00\u001b[0m\n",
            "\u001b[?25hCollecting safetensors>=0.3.1 (from transformers)\n",
            "  Downloading safetensors-0.3.1-cp310-cp310-manylinux_2_17_x86_64.manylinux2014_x86_64.whl (1.3 MB)\n",
            "\u001b[2K     \u001b[90m━━━━━━━━━━━━━━━━━━━━━━━━━━━━━━━━━━━━━━━━\u001b[0m \u001b[32m1.3/1.3 MB\u001b[0m \u001b[31m57.3 MB/s\u001b[0m eta \u001b[36m0:00:00\u001b[0m\n",
            "\u001b[?25hRequirement already satisfied: tqdm>=4.27 in /usr/local/lib/python3.10/dist-packages (from transformers) (4.65.0)\n",
            "Requirement already satisfied: fsspec in /usr/local/lib/python3.10/dist-packages (from huggingface-hub<1.0,>=0.14.1->transformers) (2023.6.0)\n",
            "Requirement already satisfied: typing-extensions>=3.7.4.3 in /usr/local/lib/python3.10/dist-packages (from huggingface-hub<1.0,>=0.14.1->transformers) (4.6.3)\n",
            "Requirement already satisfied: urllib3<1.27,>=1.21.1 in /usr/local/lib/python3.10/dist-packages (from requests->transformers) (1.26.16)\n",
            "Requirement already satisfied: certifi>=2017.4.17 in /usr/local/lib/python3.10/dist-packages (from requests->transformers) (2023.5.7)\n",
            "Requirement already satisfied: charset-normalizer~=2.0.0 in /usr/local/lib/python3.10/dist-packages (from requests->transformers) (2.0.12)\n",
            "Requirement already satisfied: idna<4,>=2.5 in /usr/local/lib/python3.10/dist-packages (from requests->transformers) (3.4)\n",
            "Installing collected packages: tokenizers, sentencepiece, safetensors, huggingface-hub, transformers\n",
            "Successfully installed huggingface-hub-0.16.4 safetensors-0.3.1 sentencepiece-0.1.99 tokenizers-0.13.3 transformers-4.30.2\n"
          ]
        }
      ],
      "source": [
        "!pip install transformers sentencepiece\n",
        "import torch\n",
        "from transformers import AutoTokenizer, AutoModel"
      ]
    },
    {
      "cell_type": "code",
      "source": [
        "tokenizer = AutoTokenizer.from_pretrained(\"cointegrated/rubert-tiny\")\n",
        "model = AutoModel.from_pretrained(\"cointegrated/rubert-tiny\")\n",
        "# model.cuda()  # uncomment it if you have a GPU"
      ],
      "metadata": {
        "colab": {
          "base_uri": "https://localhost:8080/",
          "height": 281,
          "referenced_widgets": [
            "338b090f025b4d6c856942c228ae61d6",
            "e989d4f278a646d28cb31ca9a35e4c30",
            "dcc8d593be7c46139bcee168809029e6",
            "bfabd0f76d52446caef0d906fc2dc8c1",
            "268ce11c87904c82b50b10ee2ef9a20d",
            "15791b1ebc8c40cc941e1547efb65482",
            "161ecfb2b3b841c7aee55ff0889b59e5",
            "bcb9661a71a94990b65a96cddf965458",
            "c42e9de57f414659b39f7aaf7f4adbd8",
            "230a717cc5464641b043bcdb3931805b",
            "916778fc869b4af99d9ef91bf56015d7",
            "2efbac6973c94665b78ee918d3323a81",
            "dfcf1c2f6b464e0d89e30623267248fc",
            "b8c9f19b9ee74f60bc12ca4c80bed163",
            "f3c0aa7853cf4b86aabd94d2f6988c4a",
            "42da8f9d597b43b98349cd3325d7c612",
            "06f30dbf551a40dd869e87efac06f9c8",
            "4a18e50651d84c41969c8a923a6bc91b",
            "850369db835744d39f74aeee54692824",
            "9990224b84b049728ff9cd123a9d7606",
            "c9bd86cd264d4f33b2201c140453258c",
            "604dde1b9ea04f6d8b75d340b51bd722",
            "bae4b9cbbc894066aef827ff23b10f0f",
            "638b5192796f4f0fb66cc0d33468a61d",
            "8ed119dc86ad47ee9e0959d8e8ffc574",
            "77462dc90ea449eaa18394b029df6462",
            "bd37001a1254477a8da5d5c974502c0e",
            "8065796cdd36472fac5f57f012fa1a59",
            "7db1bad628ae4f5d834c2327c4268f46",
            "b000ec0a24844ec8a291af82ab469305",
            "97d66a9fb284401fa82ed1b0099738fe",
            "5e371381b75c44ad8c024b7e8f826130",
            "c3a39866ea0d4bf38deb04677964c40e",
            "3ed5e168c5d344b697643f65e6afe582",
            "fcfbdee518c843acb67ba225d8b6a1d2",
            "8ef33af626f24d87bc6b36043e6a1719",
            "b1f865f6392d437499d1f87d401ee743",
            "7e7d585d1fe04fb083e9682ddedd7f47",
            "0d966f18c87443f9af478f6ce3e43a75",
            "b29bbce1d2a644449f7495165b962737",
            "0000607b41684ed2887e4d5999f036fc",
            "dc5d093b6c1d4edca87a2ff053402093",
            "0f7a097ad0c04fc1aea76d5eba1460f3",
            "211251de7bb34373b68351bec2022b01",
            "7a11d989e58148d7937f5c47ae492845",
            "8f9da875f1464a05b819087cf439a808",
            "1e10fe3d6fec47888780f5f559c34a2f",
            "f0f794eb586e4e5c9659066a8cc01b9b",
            "1ff30c84ed6340969f2bababd747833d",
            "16ab325e0d7646b09006952e46f91080",
            "00bc12e6ec2746f880ad858ec7160c69",
            "72b5b02b08754c8e8ea162f0250b1bc5",
            "f7814ab4762d487db198170706c9ce6c",
            "1fe2581b7d46467389ced9c54794dd3d",
            "bcdc3b952eb74ef794e975094357af10",
            "9809d03b1e9b4ae0a99ff2ca91a65f7d",
            "77f1785c73704c69a4009bd051d83a06",
            "b1299b78aa5c4b8890f5632142cf6d03",
            "000ef7411d6642e1ab27704a1537ac08",
            "00570ee234ea489183bbd04a44b02480",
            "721dd7da0dc9418fa51569552e37c4e2",
            "753d627df3ca4b389bb5d101782635e9",
            "14113d453da54d2c9dec280dbab5e01c",
            "73dd44a08e954b61a24e1f3faeebfdef",
            "a019717460c64e69b68e1ec8b0ad712c",
            "8242b2178ed44dd2be5bf2b66402dec2"
          ]
        },
        "id": "MnCBz-ZD9XIx",
        "outputId": "7e4e64be-1a9a-404c-f7bf-2631892657e9"
      },
      "execution_count": 2,
      "outputs": [
        {
          "output_type": "display_data",
          "data": {
            "text/plain": [
              "Downloading (…)okenizer_config.json:   0%|          | 0.00/341 [00:00<?, ?B/s]"
            ],
            "application/vnd.jupyter.widget-view+json": {
              "version_major": 2,
              "version_minor": 0,
              "model_id": "338b090f025b4d6c856942c228ae61d6"
            }
          },
          "metadata": {}
        },
        {
          "output_type": "display_data",
          "data": {
            "text/plain": [
              "Downloading (…)lve/main/config.json:   0%|          | 0.00/632 [00:00<?, ?B/s]"
            ],
            "application/vnd.jupyter.widget-view+json": {
              "version_major": 2,
              "version_minor": 0,
              "model_id": "2efbac6973c94665b78ee918d3323a81"
            }
          },
          "metadata": {}
        },
        {
          "output_type": "display_data",
          "data": {
            "text/plain": [
              "Downloading (…)solve/main/vocab.txt:   0%|          | 0.00/241k [00:00<?, ?B/s]"
            ],
            "application/vnd.jupyter.widget-view+json": {
              "version_major": 2,
              "version_minor": 0,
              "model_id": "bae4b9cbbc894066aef827ff23b10f0f"
            }
          },
          "metadata": {}
        },
        {
          "output_type": "display_data",
          "data": {
            "text/plain": [
              "Downloading (…)/main/tokenizer.json:   0%|          | 0.00/468k [00:00<?, ?B/s]"
            ],
            "application/vnd.jupyter.widget-view+json": {
              "version_major": 2,
              "version_minor": 0,
              "model_id": "3ed5e168c5d344b697643f65e6afe582"
            }
          },
          "metadata": {}
        },
        {
          "output_type": "display_data",
          "data": {
            "text/plain": [
              "Downloading (…)cial_tokens_map.json:   0%|          | 0.00/112 [00:00<?, ?B/s]"
            ],
            "application/vnd.jupyter.widget-view+json": {
              "version_major": 2,
              "version_minor": 0,
              "model_id": "7a11d989e58148d7937f5c47ae492845"
            }
          },
          "metadata": {}
        },
        {
          "output_type": "display_data",
          "data": {
            "text/plain": [
              "Downloading model.safetensors:   0%|          | 0.00/47.7M [00:00<?, ?B/s]"
            ],
            "application/vnd.jupyter.widget-view+json": {
              "version_major": 2,
              "version_minor": 0,
              "model_id": "9809d03b1e9b4ae0a99ff2ca91a65f7d"
            }
          },
          "metadata": {}
        },
        {
          "output_type": "stream",
          "name": "stderr",
          "text": [
            "Some weights of the model checkpoint at cointegrated/rubert-tiny were not used when initializing BertModel: ['cls.predictions.transform.LayerNorm.bias', 'cls.seq_relationship.bias', 'cls.seq_relationship.weight', 'cls.predictions.transform.dense.bias', 'cls.predictions.transform.dense.weight', 'cls.predictions.transform.LayerNorm.weight', 'cls.predictions.bias']\n",
            "- This IS expected if you are initializing BertModel from the checkpoint of a model trained on another task or with another architecture (e.g. initializing a BertForSequenceClassification model from a BertForPreTraining model).\n",
            "- This IS NOT expected if you are initializing BertModel from the checkpoint of a model that you expect to be exactly identical (initializing a BertForSequenceClassification model from a BertForSequenceClassification model).\n"
          ]
        }
      ]
    },
    {
      "cell_type": "code",
      "source": [
        "def embed_bert_cls(text, model, tokenizer):\n",
        "    t = tokenizer(text, padding=True, truncation=True, return_tensors='pt')\n",
        "    with torch.no_grad():\n",
        "        model_output = model(**{k: v.to(model.device) for k, v in t.items()})\n",
        "    embeddings = model_output.last_hidden_state[:, 0, :]\n",
        "    embeddings = torch.nn.functional.normalize(embeddings)\n",
        "    return embeddings[0].cpu().numpy()"
      ],
      "metadata": {
        "id": "rn86d57n9eQA"
      },
      "execution_count": 3,
      "outputs": []
    },
    {
      "cell_type": "code",
      "source": [
        "print(embed_bert_cls('отец думал, что мать побоится ночной сырости; но место было необыкновенно сухо, никаких болот, и даже лесу не находилось поблизости, потому что начиналась уже башкирская степь; даже влажности ночного воздуха не было слышно.', model, tokenizer).shape)"
      ],
      "metadata": {
        "colab": {
          "base_uri": "https://localhost:8080/"
        },
        "id": "dIk4bfZm9me9",
        "outputId": "da770167-ad7c-45da-c087-cacafd64eb8d"
      },
      "execution_count": 4,
      "outputs": [
        {
          "output_type": "stream",
          "name": "stdout",
          "text": [
            "(312,)\n"
          ]
        }
      ]
    },
    {
      "cell_type": "code",
      "source": [
        "print(embed_bert_cls('отец думал, что мать побоится ночной сырости; но место было необыкновенно сухо, никаких болот, и даже лесу не находилось поблизости, потому что начиналась уже башкирская степь; даже влажности ночного воздуха не было слышно.', model, tokenizer))"
      ],
      "metadata": {
        "id": "A1dZA1WW92xu"
      },
      "execution_count": null,
      "outputs": []
    },
    {
      "cell_type": "code",
      "source": [
        "s1 = embed_bert_cls('отец думал, что мать побоится ночной сырости; но место было необыкновенно сухо, никаких болот, и даже лесу не находилось поблизости, потому что начиналась уже башкирская степь; даже влажности ночного воздуха не было слышно.', model, tokenizer)"
      ],
      "metadata": {
        "id": "cMPCYioa-SQu"
      },
      "execution_count": 6,
      "outputs": []
    },
    {
      "cell_type": "code",
      "source": [
        "s2 = embed_bert_cls('для меня опять готовилось новое зрелище; отложили лошадей, хотели спутать и пустить в поле, но как степные травы погорели от солнца и завяли, то послали в деревню за свежим сеном и овсом и за всякими съестными припасами.', model, tokenizer)"
      ],
      "metadata": {
        "id": "FID1EC1z-ZuR"
      },
      "execution_count": 8,
      "outputs": []
    },
    {
      "cell_type": "code",
      "source": [
        "s2\n"
      ],
      "metadata": {
        "colab": {
          "base_uri": "https://localhost:8080/"
        },
        "id": "InR2Pf1j_MdB",
        "outputId": "49b08c1a-eaf2-423f-ad57-385def6c9fec"
      },
      "execution_count": 13,
      "outputs": [
        {
          "output_type": "execute_result",
          "data": {
            "text/plain": [
              "array([ 9.36705470e-02,  2.71038618e-02,  5.99685051e-02, -1.09217046e-02,\n",
              "       -1.52663123e-02,  1.91154778e-02, -1.14312838e-03, -3.13376933e-02,\n",
              "       -4.76663299e-02,  3.57853323e-02, -8.60097643e-04, -1.04422607e-02,\n",
              "       -4.03535329e-02,  2.69017555e-02,  9.54716187e-03, -6.99085928e-03,\n",
              "        3.36299650e-02, -8.73037055e-02,  2.41148639e-02, -5.39421737e-02,\n",
              "        2.26804540e-02,  6.25835061e-02, -1.08838631e-02,  3.51623036e-02,\n",
              "        1.51186120e-02, -1.21680638e-02,  4.55611274e-02, -2.55526323e-02,\n",
              "       -1.37938047e-02,  4.59695421e-02,  3.29374932e-02, -3.65375634e-03,\n",
              "        1.22771570e-02, -3.62251028e-02,  2.39932723e-02, -3.66584174e-02,\n",
              "        1.90005451e-02, -7.80605599e-02,  1.00533832e-02,  1.12556405e-02,\n",
              "        1.98540706e-02,  1.72244072e-01,  2.34550126e-02,  1.14415050e-03,\n",
              "       -5.74033968e-02, -6.69632927e-02,  3.20000527e-03, -2.63246838e-02,\n",
              "       -1.19183660e-02, -1.95824206e-02,  3.64669673e-02, -1.07569098e-01,\n",
              "       -2.22197571e-03,  3.93995717e-02, -7.27982633e-03,  2.16314700e-02,\n",
              "        2.60916911e-02, -4.68163304e-02,  1.60148349e-02,  8.37979466e-03,\n",
              "        4.00504284e-02,  1.48970783e-01, -3.04587116e-03, -1.20759560e-02,\n",
              "        1.89771019e-02,  4.60541323e-02,  8.93429443e-02,  1.75040234e-02,\n",
              "        6.75925314e-02, -9.11670923e-02,  1.83355287e-01, -6.47590160e-02,\n",
              "       -4.60996553e-02,  1.06303887e-02, -9.12496895e-02, -7.17946663e-02,\n",
              "       -2.33006869e-02,  2.53335331e-02,  2.79502533e-02,  3.85892801e-02,\n",
              "       -4.64320481e-02, -1.22286687e-02,  2.04883423e-02,  1.64602511e-02,\n",
              "        2.33079363e-02,  8.79114270e-02,  1.89515091e-02, -2.02329084e-03,\n",
              "        3.01304646e-03,  4.32813680e-03, -3.84940021e-03, -1.32261226e-02,\n",
              "       -4.26125042e-02,  4.83115278e-02,  4.00575586e-02, -4.31677466e-03,\n",
              "        7.58825243e-02, -5.30038178e-02, -1.69607885e-02,  3.32829021e-02,\n",
              "       -5.64817041e-02,  7.75944907e-04, -2.12551244e-02, -3.72810550e-02,\n",
              "        1.54375248e-02,  4.86798538e-03,  3.62972207e-02,  2.40259804e-02,\n",
              "        2.09071264e-02,  2.86805350e-02, -2.38758363e-02, -1.62277650e-02,\n",
              "       -2.21767295e-02, -7.62918778e-03, -6.10996075e-02,  6.94300830e-02,\n",
              "       -3.85028049e-02,  3.16166095e-02, -4.76522185e-02,  2.82840766e-02,\n",
              "       -4.89691831e-02, -1.11426279e-01,  1.05383646e-04,  6.56727701e-03,\n",
              "       -4.37157025e-04,  2.46816985e-02,  8.53207801e-03, -2.05820538e-02,\n",
              "       -1.54448617e-02,  3.39964032e-03, -7.82449206e-04, -8.66166875e-03,\n",
              "       -3.19212042e-02, -3.56147960e-02,  2.87778006e-04, -4.81418632e-02,\n",
              "       -3.29431444e-02, -6.69550598e-02,  3.17493677e-02,  1.19503844e-03,\n",
              "        9.53493454e-03,  3.53361107e-02,  2.37429906e-02, -5.59309125e-03,\n",
              "       -2.81824800e-03, -7.84420967e-03,  8.04267377e-02,  3.06082163e-02,\n",
              "        4.05654609e-02,  2.20042318e-02,  2.72814697e-03, -1.73205207e-03,\n",
              "        5.13456278e-02,  2.94536259e-02, -3.70282978e-02, -3.01146437e-03,\n",
              "       -1.22448346e-02, -1.26488460e-02, -4.46435772e-02, -3.49314814e-03,\n",
              "        4.52754945e-02,  4.51997072e-02, -6.39286824e-03, -1.13241561e-01,\n",
              "       -2.07785591e-02, -1.46639785e-02,  3.64397168e-02, -7.52796046e-03,\n",
              "       -1.63496546e-02,  3.29922810e-02,  5.91122769e-02,  4.11138199e-02,\n",
              "       -1.44071700e-02, -9.94054414e-03,  6.38467893e-02,  5.26565686e-02,\n",
              "       -6.06236421e-02,  2.86632124e-02, -1.19121475e-02, -4.84304242e-02,\n",
              "       -3.57223721e-03,  5.81665449e-02,  6.24784492e-02, -1.43350996e-02,\n",
              "       -3.25116664e-02,  1.70584898e-02, -2.87398649e-03,  3.00692786e-02,\n",
              "       -3.13388705e-02, -2.63491292e-02,  6.15828373e-02, -3.59059982e-02,\n",
              "       -1.84629619e-01,  4.23065200e-02,  2.63056122e-02, -4.64420617e-01,\n",
              "       -5.22067249e-02,  6.11080341e-02,  2.16084439e-02, -5.16693443e-02,\n",
              "       -7.66518200e-03,  5.71402833e-02,  5.59845008e-02,  1.27961086e-02,\n",
              "       -3.60340416e-01, -1.08200293e-02,  5.59642240e-02, -2.69319806e-02,\n",
              "        1.31327799e-02,  4.94373478e-02, -4.78573292e-02, -4.00174893e-02,\n",
              "        7.01746419e-02, -1.53243104e-02,  9.24644899e-03, -7.51771964e-04,\n",
              "       -6.51333556e-02, -5.01044700e-03,  2.83697285e-02, -6.42453358e-02,\n",
              "        7.53312632e-02,  4.39756662e-02,  1.38177956e-02, -7.47885704e-02,\n",
              "       -9.31311923e-04, -3.63686890e-03, -9.00063142e-02,  6.09148704e-02,\n",
              "       -5.30253127e-02, -3.63626704e-02,  7.81850815e-02, -1.75033677e-02,\n",
              "        3.85665111e-02,  4.14675996e-02,  3.60721797e-02,  2.07566638e-02,\n",
              "        9.95258093e-02,  9.80318431e-03,  5.95437288e-02, -2.16262341e-02,\n",
              "        6.00446425e-02,  2.23583318e-02,  9.23312902e-02, -2.98079546e-03,\n",
              "        1.83882955e-02,  7.32564852e-02,  4.85667624e-02, -1.98804419e-02,\n",
              "       -6.70627132e-02, -3.87759809e-03, -4.68834788e-02, -4.96892445e-03,\n",
              "       -9.49531794e-02,  4.34525013e-02, -6.68719634e-02, -2.59805303e-02,\n",
              "        2.73600370e-02, -1.80833582e-02,  1.29403314e-02,  2.07211766e-02,\n",
              "        7.86383897e-02,  7.24908859e-02,  1.21664442e-03,  1.70939118e-02,\n",
              "       -6.47333637e-03,  2.48296210e-03,  1.50887687e-02,  8.38557817e-03,\n",
              "        5.34192584e-02,  9.79331583e-02,  2.87306379e-03, -2.26249220e-03,\n",
              "       -3.17734107e-02,  5.65418042e-02, -2.56206598e-02, -1.17589952e-02,\n",
              "       -4.27973736e-03,  1.44778565e-02, -7.22057745e-03,  7.26454556e-02,\n",
              "        6.27843142e-02,  5.34178503e-02,  1.35274408e-02,  4.84607257e-02,\n",
              "        5.59520833e-02,  7.83720687e-02,  8.91581774e-02, -1.70208253e-02,\n",
              "       -2.04337314e-02, -1.03595853e-03,  6.91779926e-02, -3.95378061e-02,\n",
              "        1.67213585e-02, -4.37253974e-02, -3.25528607e-02,  5.19732013e-02,\n",
              "        5.89803346e-02, -2.17444040e-02, -5.95177598e-02, -6.84890620e-05,\n",
              "        8.00937228e-03, -8.59403703e-03, -1.62896346e-02, -3.32112424e-02,\n",
              "        6.92005232e-02, -1.83599629e-02, -1.62797440e-02,  1.35477250e-02,\n",
              "       -7.29298815e-02, -7.85003230e-02, -4.85380031e-02, -3.89636867e-02],\n",
              "      dtype=float32)"
            ]
          },
          "metadata": {},
          "execution_count": 13
        }
      ]
    },
    {
      "cell_type": "code",
      "source": [
        "s1"
      ],
      "metadata": {
        "colab": {
          "base_uri": "https://localhost:8080/"
        },
        "id": "NozLHylbCrmN",
        "outputId": "64e4bd52-0c2b-4ade-9baf-9f2a0542a50b"
      },
      "execution_count": 25,
      "outputs": [
        {
          "output_type": "execute_result",
          "data": {
            "text/plain": [
              "array([ 8.97359401e-02,  6.19651331e-03,  3.07485927e-02, -4.78093401e-02,\n",
              "        1.32388631e-02,  1.78218000e-02, -6.07388979e-03, -7.19220936e-02,\n",
              "        1.43130887e-02,  7.42159337e-02,  3.22241150e-02,  7.98765570e-04,\n",
              "       -1.93610918e-02,  5.69739491e-02,  1.07587948e-02, -1.31960381e-02,\n",
              "        3.77659351e-02, -5.00585437e-02, -5.87605732e-03, -4.05940898e-02,\n",
              "        5.66673419e-03,  9.75599289e-02, -5.25400462e-03,  1.25268232e-02,\n",
              "        5.02343960e-02,  2.93638743e-02,  3.08234412e-02, -3.94905396e-02,\n",
              "        3.26782316e-02,  8.14705938e-02,  3.29662859e-02, -2.04305071e-02,\n",
              "       -5.66834435e-02, -6.41074553e-02,  2.29253881e-02, -4.90846410e-02,\n",
              "        4.65310030e-02, -3.10480967e-03, -7.39843445e-03,  1.61144678e-02,\n",
              "        3.01305298e-02,  1.41173556e-01, -1.17445849e-02, -1.56536680e-02,\n",
              "       -1.47057883e-03, -6.12253025e-02, -1.93125755e-02, -2.05529090e-02,\n",
              "       -1.42395897e-02, -3.61566636e-04,  1.85051728e-02, -5.02466969e-02,\n",
              "        2.33537517e-02,  4.31785025e-02,  4.22895961e-02,  2.94582620e-02,\n",
              "        3.84429074e-03, -2.81661600e-02, -3.80586125e-02,  7.32420012e-03,\n",
              "        5.36449812e-02,  1.04751162e-01,  6.74837409e-03, -2.00603940e-02,\n",
              "        3.95777030e-03,  1.55734560e-02,  1.14864841e-01,  1.32959103e-02,\n",
              "        1.97804142e-02, -6.70750514e-02,  1.09490819e-01, -6.20760657e-02,\n",
              "       -3.95410024e-02,  4.17515310e-03, -7.23665282e-02, -1.24759965e-01,\n",
              "        1.92036964e-02, -1.17109846e-02,  6.20632470e-02,  6.23093825e-03,\n",
              "       -5.70026599e-02, -2.60557397e-03,  3.48143019e-02, -2.38612741e-02,\n",
              "       -1.78029407e-02,  7.36486688e-02,  2.21793931e-02,  8.11821036e-03,\n",
              "        2.12207600e-03,  2.10356433e-02, -4.04319633e-03, -5.63751860e-03,\n",
              "       -7.50499070e-02, -1.13438042e-02,  3.28529552e-02,  1.02308076e-02,\n",
              "        8.73614550e-02, -7.92829320e-02, -2.64699031e-02, -6.38410728e-03,\n",
              "       -4.95096482e-02,  1.39538450e-02,  1.60108730e-02, -6.60696849e-02,\n",
              "        2.74949595e-02, -5.32396231e-03,  1.05324676e-02,  2.66892184e-02,\n",
              "        6.21939451e-02,  4.37028408e-02,  4.34021987e-02,  3.10244281e-02,\n",
              "       -3.72253545e-02, -1.64682064e-02, -5.48645407e-02,  8.92009661e-02,\n",
              "       -3.41904797e-02,  2.91043539e-02, -3.35804671e-02,  1.54961727e-03,\n",
              "       -5.27075604e-02, -1.45515472e-01, -2.71617584e-02, -8.04884173e-03,\n",
              "        2.95857573e-03,  7.09851552e-03,  6.17442876e-02,  5.96598536e-02,\n",
              "       -3.96273956e-02,  3.47237885e-02,  1.13177998e-03, -2.85461955e-02,\n",
              "       -9.76154674e-03, -3.66436429e-02, -3.58454790e-03,  7.14423833e-03,\n",
              "       -6.19960390e-03, -6.15315698e-02,  4.30329815e-02,  6.38228133e-02,\n",
              "       -9.49710421e-03,  6.53015003e-02,  2.33040079e-02,  9.09464061e-03,\n",
              "        1.63728613e-02, -2.35877540e-02,  2.42727646e-03, -4.14084084e-02,\n",
              "        6.06832467e-02,  1.72362626e-02,  4.35453951e-02,  1.72573999e-02,\n",
              "        4.55618389e-02,  1.71852242e-02, -1.28516434e-02, -1.93499879e-03,\n",
              "        2.82231369e-03,  1.49056851e-03, -3.96806709e-02, -1.17458054e-03,\n",
              "        4.89192829e-02,  1.84265040e-02, -5.71882818e-03, -1.19759910e-01,\n",
              "        9.31368303e-03, -3.39142606e-02,  2.99104415e-02,  1.27532415e-03,\n",
              "       -5.71429692e-02,  2.50185858e-02,  4.42515500e-02, -4.84370720e-03,\n",
              "       -2.33539809e-02, -1.73116885e-02,  1.77266225e-02,  9.09157172e-02,\n",
              "       -2.02589612e-02,  3.53377387e-02, -1.77955199e-02, -5.45707159e-02,\n",
              "        1.52391125e-03,  1.96734797e-02,  8.10708031e-02,  3.27922739e-02,\n",
              "       -4.64932136e-02,  1.65002681e-02, -3.12794335e-02,  7.59510472e-02,\n",
              "       -8.80551338e-03, -3.13836299e-02,  2.84014223e-03, -3.53300907e-02,\n",
              "       -1.70746565e-01,  4.56908680e-02, -2.29831226e-03, -4.82005835e-01,\n",
              "       -5.87173272e-03,  4.68533337e-02,  6.75458089e-02, -1.68380830e-02,\n",
              "       -2.04142071e-02,  4.22142223e-02,  1.26760677e-02,  4.95278351e-02,\n",
              "       -4.03126210e-01, -2.31693336e-03,  3.80213186e-02, -2.05272976e-02,\n",
              "        5.27328113e-03,  6.57449439e-02, -2.66850330e-02, -3.01631894e-02,\n",
              "        4.25676778e-02, -4.15583216e-02, -9.05603450e-03, -1.09977061e-02,\n",
              "       -6.11192472e-02,  4.71904129e-02,  1.27900597e-02, -4.26978506e-02,\n",
              "        3.09074800e-02,  9.03404728e-02,  2.23678760e-02, -1.03082731e-01,\n",
              "        4.98790406e-02,  1.34235062e-02, -6.33468479e-02,  2.24154331e-02,\n",
              "       -5.44736609e-02, -5.93904294e-02,  1.91062801e-02, -4.53075096e-02,\n",
              "        9.43000391e-02,  1.85161456e-02,  5.21431118e-02,  3.66671570e-02,\n",
              "        5.00584580e-02,  1.17949964e-02,  3.90125066e-02, -1.13899754e-02,\n",
              "        6.60760328e-02, -8.35278817e-03,  8.89073461e-02, -1.31336469e-02,\n",
              "        6.45198599e-02,  6.18425980e-02,  4.96896952e-02,  2.54150033e-02,\n",
              "       -8.25980753e-02,  6.54687639e-03, -4.15185206e-02, -1.96881611e-02,\n",
              "       -5.19993268e-02,  2.16063410e-02, -2.30417345e-02, -5.43344356e-02,\n",
              "        7.15969503e-02, -1.05131837e-02,  1.46838482e-02,  3.56747545e-02,\n",
              "        5.94428629e-02, -4.46768245e-03,  1.57478359e-02,  6.19027624e-03,\n",
              "       -3.59500311e-02,  4.07990739e-02,  7.64549430e-03,  3.76309603e-02,\n",
              "        1.19480722e-01,  7.30328709e-02,  2.25269748e-03, -1.69260260e-02,\n",
              "        8.73125915e-04,  5.65380640e-02, -2.54721288e-02,  1.45871928e-02,\n",
              "        2.16688998e-02,  2.05599019e-04,  1.97373629e-02,  9.24668983e-02,\n",
              "        6.19979613e-02, -1.24193290e-02,  1.73446117e-03,  1.51666375e-02,\n",
              "        2.61442941e-02,  3.50028686e-02,  3.63304690e-02, -3.60238478e-02,\n",
              "        2.20403355e-03, -8.36250372e-03,  2.88189836e-02, -2.57097324e-03,\n",
              "       -3.04629263e-02, -3.98981795e-02, -2.66066790e-02,  1.55116748e-02,\n",
              "       -4.64797392e-03,  4.26117750e-03, -2.39060037e-02, -4.14405093e-02,\n",
              "       -2.33280044e-02, -2.62200665e-02, -2.37300918e-02, -5.66165671e-02,\n",
              "        2.95968708e-02,  1.74792986e-02,  1.36048216e-02,  3.38754430e-02,\n",
              "       -1.73582584e-02, -5.29885329e-02, -2.18275115e-02, -3.53085957e-02],\n",
              "      dtype=float32)"
            ]
          },
          "metadata": {},
          "execution_count": 25
        }
      ]
    },
    {
      "cell_type": "code",
      "source": [
        "import numpy as np"
      ],
      "metadata": {
        "id": "K-O_St0D--9O"
      },
      "execution_count": 11,
      "outputs": []
    },
    {
      "cell_type": "code",
      "source": [
        "np.array_equal(s1, s2)"
      ],
      "metadata": {
        "colab": {
          "base_uri": "https://localhost:8080/"
        },
        "id": "kjyc_sWx-lry",
        "outputId": "39b6a26b-28ff-4e1a-a2a8-363d3196187c"
      },
      "execution_count": 14,
      "outputs": [
        {
          "output_type": "execute_result",
          "data": {
            "text/plain": [
              "False"
            ]
          },
          "metadata": {},
          "execution_count": 14
        }
      ]
    },
    {
      "cell_type": "code",
      "source": [
        "# вначале выполним операции в числителе формулы\n",
        "numerator = np.dot(s1, s2)\n",
        "\n",
        "# теперь займемся знаменателем и\n",
        "# (1) рассчитаем длины (по большому счету, это теорема Пифагора)\n",
        "s1Len = np.linalg.norm(s1)\n",
        "s2Len = np.linalg.norm(s2)\n",
        "\n",
        "# (2) перемножим их\n",
        "denominator = s1Len * s2Len\n",
        "\n",
        "# посмотрим, чему равен косинус угла между векторами\n",
        "cosine = numerator/denominator\n",
        "cosine"
      ],
      "metadata": {
        "colab": {
          "base_uri": "https://localhost:8080/"
        },
        "id": "EDCtVtp-_1Ml",
        "outputId": "534b2dcb-1e55-48d8-9fa3-10e804e2f79e"
      },
      "execution_count": 16,
      "outputs": [
        {
          "output_type": "execute_result",
          "data": {
            "text/plain": [
              "0.86354786"
            ]
          },
          "metadata": {},
          "execution_count": 16
        }
      ]
    },
    {
      "cell_type": "code",
      "source": [
        "angle_radians = np.arccos(cosine)\n",
        "\n",
        "# затем в градусах\n",
        "angle_degrees = angle_radians * 360/2/np.pi\n",
        "angle_degrees"
      ],
      "metadata": {
        "colab": {
          "base_uri": "https://localhost:8080/"
        },
        "id": "WlZqyx9FAHuJ",
        "outputId": "0636314a-41ad-4b84-f931-fb21e6465a69"
      },
      "execution_count": 17,
      "outputs": [
        {
          "output_type": "execute_result",
          "data": {
            "text/plain": [
              "30.2826989494783"
            ]
          },
          "metadata": {},
          "execution_count": 17
        }
      ]
    },
    {
      "cell_type": "code",
      "source": [
        "angle_radians"
      ],
      "metadata": {
        "colab": {
          "base_uri": "https://localhost:8080/"
        },
        "id": "7NynYMNIDocW",
        "outputId": "9b8ed2b7-cb08-416e-a1e0-7250e1d6ded9"
      },
      "execution_count": 26,
      "outputs": [
        {
          "output_type": "execute_result",
          "data": {
            "text/plain": [
              "0.5285328"
            ]
          },
          "metadata": {},
          "execution_count": 26
        }
      ]
    },
    {
      "cell_type": "code",
      "source": [
        "from numpy import dot\n",
        "from numpy.linalg import norm"
      ],
      "metadata": {
        "id": "Z2EM7K5tAV-k"
      },
      "execution_count": 18,
      "outputs": []
    },
    {
      "cell_type": "code",
      "source": [
        "#calculate Cosine Similarity\n",
        "cos_sim = dot (s1, s2)/(norm (s1)*norm (s2))\n",
        "\n",
        "cos_sim"
      ],
      "metadata": {
        "colab": {
          "base_uri": "https://localhost:8080/"
        },
        "id": "gBlv48RhAaU9",
        "outputId": "aa7c3c72-c5d6-4461-e6bc-906aaddd7bc8"
      },
      "execution_count": 21,
      "outputs": [
        {
          "output_type": "execute_result",
          "data": {
            "text/plain": [
              "0.86354786"
            ]
          },
          "metadata": {},
          "execution_count": 21
        }
      ]
    },
    {
      "cell_type": "code",
      "source": [
        "from sklearn.metrics.pairwise import cosine_similarity"
      ],
      "metadata": {
        "id": "fKFRh0WDBqu4"
      },
      "execution_count": 22,
      "outputs": []
    },
    {
      "cell_type": "code",
      "source": [
        "cosine = cosine_similarity(s1.reshape(1, -1), s2.reshape(1, -1))\n",
        "print(cosine)"
      ],
      "metadata": {
        "colab": {
          "base_uri": "https://localhost:8080/"
        },
        "id": "peWbpaqgBuHR",
        "outputId": "fd9f4aea-cb6b-4a5a-8418-23608171d33e"
      },
      "execution_count": 23,
      "outputs": [
        {
          "output_type": "stream",
          "name": "stdout",
          "text": [
            "[[0.8635478]]\n"
          ]
        }
      ]
    },
    {
      "cell_type": "code",
      "source": [
        "def angle_between(v1, v2):\n",
        "  dot_pr = v1.dot(v2)\n",
        "  norms = np.linalg.norm(v1) * np.linalg.norm(v2)\n",
        "  return np.rad2deg(np.arccos(dot_pr / norms))"
      ],
      "metadata": {
        "id": "QJWy9DjMEG6n"
      },
      "execution_count": 27,
      "outputs": []
    },
    {
      "cell_type": "code",
      "source": [
        "print(angle_between(s1, s2))\n"
      ],
      "metadata": {
        "colab": {
          "base_uri": "https://localhost:8080/"
        },
        "id": "SEtsKaX1EYJH",
        "outputId": "b8e3cefd-0ab1-4df3-8fcd-f01e4d5ba00a"
      },
      "execution_count": 28,
      "outputs": [
        {
          "output_type": "stream",
          "name": "stdout",
          "text": [
            "30.282698\n"
          ]
        }
      ]
    },
    {
      "cell_type": "code",
      "source": [
        "s3 = embed_bert_cls('небо сверкало звездами, воздух был наполнен благовонием от засыхающих степных трав, речка журчала в овраге, костер пылал и ярко освещал наших людей, которые сидели около котла с горячей кашицей, хлебали ее и весело разговаривали между собою; лошади, припущенные к овсу, также были освещены с одной стороны полосою света…', model, tokenizer)"
      ],
      "metadata": {
        "id": "dC7MtYz_EqHu"
      },
      "execution_count": 32,
      "outputs": []
    },
    {
      "cell_type": "code",
      "source": [
        "cosine2 = cosine_similarity(s1.reshape(1, -1), s3.reshape(1, -1))\n",
        "print(cosine2)"
      ],
      "metadata": {
        "colab": {
          "base_uri": "https://localhost:8080/"
        },
        "id": "l1KssLM-E1we",
        "outputId": "77d78efa-c9f7-43c8-9acb-a5f7c4944716"
      },
      "execution_count": 33,
      "outputs": [
        {
          "output_type": "stream",
          "name": "stdout",
          "text": [
            "[[0.8210758]]\n"
          ]
        }
      ]
    },
    {
      "cell_type": "code",
      "source": [
        "print(angle_between(s1, s3))"
      ],
      "metadata": {
        "colab": {
          "base_uri": "https://localhost:8080/"
        },
        "id": "ScvVN04lE6Y8",
        "outputId": "9a5b5b2b-2ef1-4b99-dfce-ba3a58af9427"
      },
      "execution_count": 34,
      "outputs": [
        {
          "output_type": "stream",
          "name": "stdout",
          "text": [
            "34.80736\n"
          ]
        }
      ]
    }
  ]
}